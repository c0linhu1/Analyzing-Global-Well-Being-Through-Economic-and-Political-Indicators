{
 "cells": [
  {
   "cell_type": "markdown",
   "id": "0dcdcc62",
   "metadata": {},
   "source": [
    "# Phase II: Data Curation, Exploratory Analysis and Plotting (5\\%)\n",
    "\n",
    "### Team Members:\n",
    "- Colin Hui\n",
    "- Derek Aslan\n",
    "- Aydan Ali\n",
    "- Conor Cummings\n",
    "\n",
    "\n",
    "## Part 1: \n",
    "(1%) Expresses the central motivation of the project and explains the (at least) two key questions to be explored. Gives a summary of the data processing pipeline so a technical expert can easily follow along."
   ]
  },
  {
   "cell_type": "markdown",
   "id": "05a6bfb5",
   "metadata": {},
   "source": [
    "## Problem Motivation\n",
    "\n",
    "Global economic development remains uneven, especially in today's world where countries  are experiencing different levels of population wellbeing despite similar geopolitical circumstances. Understanding the relationships between economic indicators, political factors, and policy decisions is important for identifying pathways to improved quality of life. This analysis would focus on how these indicators and factors influence population wellbeing across different world regions/countries, overall providing insights that could inform evidence-based policy decisions for sustainable development.\n",
    "The key questions are as follows:\n",
    "\n",
    "1. How do the economic factors of a country impact its population's wellbeing?\n",
    "2. How do the political factors of a country impact its economy?"
   ]
  },
  {
   "cell_type": "markdown",
   "id": "f3492a06",
   "metadata": {},
   "source": [
    "## Summary of the Data Processing Pipeline\n",
    "\n",
    "1. Pull data from the World Bank API to get the raw data\n",
    "2. Clean the data to prepare the data frame for visualization and analysis\n",
    "3. Visualize using plotting libraries, such as Seaborn, Plotly, and Matplotlib\n",
    "\n",
    "To process the data, we will first acquire the data from the World Bank developer API. THe data will be sourced from two query systems: the indicator query and the country data query systems. The data will then be processed into a pair of tables indexed by the unique 2-letter identifier each country is assigned by the World Bank. These tables will be joined then converted into a .csv file for storage.\n",
    "\n",
    "The data will be used in multiple different ways. Primarily, we will perform statistical analyses and construct graphic visualizations of the data. We will also use the data to train machine learning models to help predict answers for our two key questions."
   ]
  },
  {
   "cell_type": "markdown",
   "id": "68682951",
   "metadata": {},
   "source": [
    "## Part 2: \n",
    "(2\\%) Obtains, cleans, and merges all data sources involved in the project."
   ]
  },
  {
   "cell_type": "code",
   "execution_count": 3,
   "id": "cc0813e8",
   "metadata": {},
   "outputs": [
    {
     "name": "stdout",
     "output_type": "stream",
     "text": [
      "    SP.POP.TOTL  NY.GNP.PCAP.CD  SI.POV.DDAY  SI.POV.GINI  MS.MIL.XPND.GD.ZS  \\\n",
      "AW     107359.0         30120.0          NaN          NaN                NaN   \n",
      "AF   41454761.0           370.0          NaN          NaN                NaN   \n",
      "AO   36749906.0          2130.0          NaN          NaN           1.332529   \n",
      "AL    2745972.0          7680.0          NaN          NaN           1.743992   \n",
      "AD      80856.0         47920.0          NaN          NaN                NaN   \n",
      "..          ...             ...          ...          ...                ...   \n",
      "XK    1682668.0          6290.0          NaN          NaN           1.254180   \n",
      "YE   39390799.0             NaN          NaN          NaN                NaN   \n",
      "ZA   63212384.0          6480.0          NaN          NaN           0.733137   \n",
      "ZM   20723965.0          1290.0          NaN          NaN           1.303002   \n",
      "ZW   16340822.0          2060.0          NaN          NaN           0.248808   \n",
      "\n",
      "      VA.EST                                             region  \\\n",
      "AW  1.019175                         Latin America & Caribbean    \n",
      "AF -1.852901  Middle East, North Africa, Afghanistan & Pakistan   \n",
      "AO -0.737252                                Sub-Saharan Africa    \n",
      "AL  0.168997                              Europe & Central Asia   \n",
      "AD  0.996940                              Europe & Central Asia   \n",
      "..       ...                                                ...   \n",
      "XK -0.088809                              Europe & Central Asia   \n",
      "YE -1.550217  Middle East, North Africa, Afghanistan & Pakistan   \n",
      "ZA  0.744892                                Sub-Saharan Africa    \n",
      "ZM -0.047946                                Sub-Saharan Africa    \n",
      "ZW -1.092633                                Sub-Saharan Africa    \n",
      "\n",
      "            incomeLevel  \n",
      "AW          High income  \n",
      "AF           Low income  \n",
      "AO  Lower middle income  \n",
      "AL  Upper middle income  \n",
      "AD          High income  \n",
      "..                  ...  \n",
      "XK  Upper middle income  \n",
      "YE           Low income  \n",
      "ZA  Upper middle income  \n",
      "ZM  Lower middle income  \n",
      "ZW  Lower middle income  \n",
      "\n",
      "[217 rows x 8 columns]\n"
     ]
    }
   ],
   "source": [
    "import pandas as pd\n",
    "import requests\n",
    "import json\n",
    "\n",
    "\n",
    "\n",
    "indicators = {\n",
    "    'SP.POP.TOTL': 'Population, total',\n",
    "    'NY.GNP.PCAP.CD': 'GDP Per Captia',\n",
    "    'SI.POV.DDAY': 'Poverty headcount ratio at $3.00 a day (2021 PPP)',\n",
    "    'SI.POV.GINI': 'Gini index',\n",
    "    'MS.MIL.XPND.GD.ZS': 'Military expenditure (% of GDP)',\n",
    "    'VA.EST': 'Voice and Accountability: Estimate'\n",
    "}\n",
    "\n",
    "params = {\n",
    "    'format': 'json',\n",
    "    'per_page': '300', # This makes sure all countries are returned\n",
    "    'date': '2023' #Query just one year\n",
    "}\n",
    "\n",
    "\n",
    "def get_api_url(indicator, params):\n",
    "    \"\"\"\n",
    "    Constructs a URL for the API call, to query a given indicator and with a given set of parameters.\n",
    "\n",
    "    Args:\n",
    "        indicator: the indicator ID string\n",
    "        params: a dictionary containing the API call parameters\n",
    "\n",
    "    Returns:\n",
    "        A URL to send an HTTP request to to get the API data\n",
    "    \"\"\"\n",
    "    baseurl = 'https://api.worldbank.org/v2/country/all/indicator/'\n",
    "\n",
    "    url = baseurl + indicator + '?'\n",
    "    for param in params.keys():\n",
    "        url = url + param + '=' + params[param] + '&'\n",
    "    return url\n",
    "\n",
    "def get_country_data():\n",
    "    \"\"\"\n",
    "    Gets country region and income level as a dataframe indexed by country id.\n",
    "\n",
    "    Args: \n",
    "        None\n",
    "\n",
    "    Returns:\n",
    "        DataFrame with country id as index and region/incomeLevel as columns\n",
    "\n",
    "    \"\"\"\n",
    "    response = requests.get(\"https://api.worldbank.org/v2/country?format=json&per_page=296\")\n",
    "    country_data = json.loads(response.text)[1]\n",
    "\n",
    "    country_dct = {}\n",
    "\n",
    "    for dict in country_data:\n",
    "        if dict[\"region\"][\"value\"] != \"Aggregates\":\n",
    "            country_dct[dict[\"iso2Code\"]] = {\n",
    "                \"region\": dict[\"region\"][\"value\"],\n",
    "                \"incomeLevel\": dict[\"incomeLevel\"][\"value\"],\n",
    "            }\n",
    "    df = pd.DataFrame.from_dict(country_dct, orient = \"index\")\n",
    "                \n",
    "    #print(df)\n",
    "\n",
    "    return df\n",
    "\n",
    "def get_indicator_data(indicators):\n",
    "    \"\"\"\n",
    "    Gets and cleans the indicator data into a dataframe indexed by country id.\n",
    "\n",
    "    Args:\n",
    "        indicator: the indicator ID string\n",
    "\n",
    "    Returns:\n",
    "        Dataframe with country id as index and the indicators as columns\n",
    "\n",
    "    \"\"\"\n",
    "\n",
    "\n",
    "    indicator_data = {}\n",
    "    #Loop through each indicator and make an API call for each. Unfortunately, each API call can only return data for 1 indicator.\n",
    "    for indicator in indicators.keys():\n",
    "        indicator_data[indicator] = json.loads(requests.get(get_api_url(indicator, params)).text)\n",
    "\n",
    "    indicator_series_list = []\n",
    "\n",
    "    for indicator in indicator_data.keys():\n",
    "        indicator_dict = {}\n",
    "        for country in indicator_data[indicator][1]:\n",
    "            country_id = country['country']['id']\n",
    "            if len(country_id) == 2 and country_id.isalpha() and country_id.isupper():\n",
    "                indicator_dict[country_id] = country['value']\n",
    "\n",
    "        indicator_series = pd.Series(indicator_dict)\n",
    "        indicator_series.name = indicator\n",
    "        indicator_series_list.append(indicator_series)\n",
    "    output = pd.DataFrame(indicator_series_list).transpose()\n",
    "    #print(output)\n",
    "    return output\n",
    "\n",
    "\n",
    "def merge_data(country_df, indicator_df):\n",
    "    \"\"\"\n",
    "    Merges country dataframe with indicator dataframe based on the country id index.\n",
    "    \n",
    "    Args:\n",
    "        country_df: DataFrame with region/income data\n",
    "        indicator_df: DataFrame with indicator data\n",
    "        \n",
    "    Returns:\n",
    "        finalized merged dataframe containing country and indicator data\n",
    "    \"\"\"\n",
    "    merge_df = pd.merge(indicator_df, country_df, left_index = True,\n",
    "                         right_index = True, how = \"right\")\n",
    "    return merge_df\n",
    "\n",
    "\n",
    "\n",
    "if __name__ == \"__main__\":\n",
    "    country_df = get_country_data()\n",
    "    indicator_df = get_indicator_data(indicators)\n",
    "    merged_data = merge_data(country_df, indicator_df)\n",
    "    print(merged_data)\n",
    "\n",
    "    merged_data.to_csv('world_bank_data_2023.csv')"
   ]
  },
  {
   "cell_type": "markdown",
   "id": "71a36fd1",
   "metadata": {},
   "source": [
    "## Part 3:\n",
    "(2\\%) Builds at least two visualizations (graphs/plots) from the data which help to understand or answer the questions of interest. These visualizations will be graded based on how much information they can effectively communicate to readers. Please make sure your visualization are sufficiently distinct from each other."
   ]
  },
  {
   "cell_type": "code",
   "execution_count": 4,
   "id": "e53d0d23",
   "metadata": {},
   "outputs": [
    {
     "data": {
      "application/vnd.plotly.v1+json": {
       "config": {
        "plotlyServerURL": "https://plot.ly"
       },
       "data": [
        {
         "customdata": [
          [
           107359,
           "High income",
           "Latin America & Caribbean "
          ],
          [
           45538401,
           "Upper middle income",
           "Latin America & Caribbean "
          ],
          [
           93316,
           "High income",
           "Latin America & Caribbean "
          ],
          [
           399440,
           "High income",
           "Latin America & Caribbean "
          ],
          [
           411106,
           "Upper middle income",
           "Latin America & Caribbean "
          ],
          [
           12244159,
           "Lower middle income",
           "Latin America & Caribbean "
          ],
          [
           211140729,
           "Upper middle income",
           "Latin America & Caribbean "
          ],
          [
           282336,
           "High income",
           "Latin America & Caribbean "
          ],
          [
           19658835,
           "High income",
           "Latin America & Caribbean "
          ],
          [
           52321152,
           "Upper middle income",
           "Latin America & Caribbean "
          ],
          [
           5105525,
           "High income",
           "Latin America & Caribbean "
          ],
          [
           66510,
           "Upper middle income",
           "Latin America & Caribbean "
          ],
          [
           11331265,
           "Upper middle income",
           "Latin America & Caribbean "
          ],
          [
           17980083,
           "Upper middle income",
           "Latin America & Caribbean "
          ],
          [
           117081,
           "Upper middle income",
           "Latin America & Caribbean "
          ],
          [
           18124838,
           "Upper middle income",
           "Latin America & Caribbean "
          ],
          [
           826353,
           "High income",
           "Latin America & Caribbean "
          ],
          [
           10644851,
           "Lower middle income",
           "Latin America & Caribbean "
          ],
          [
           11637398,
           "Lower middle income",
           "Latin America & Caribbean "
          ],
          [
           2839786,
           "Upper middle income",
           "Latin America & Caribbean "
          ],
          [
           46758,
           "High income",
           "Latin America & Caribbean "
          ],
          [
           179285,
           "Upper middle income",
           "Latin America & Caribbean "
          ],
          [
           129739759,
           "Upper middle income",
           "Latin America & Caribbean "
          ],
          [
           6823613,
           "Lower middle income",
           "Latin America & Caribbean "
          ],
          [
           4458759,
           "High income",
           "Latin America & Caribbean "
          ],
          [
           33845617,
           "Upper middle income",
           "Latin America & Caribbean "
          ],
          [
           3203792,
           "High income",
           "Latin America & Caribbean "
          ],
          [
           6844146,
           "Upper middle income",
           "Latin America & Caribbean "
          ],
          [
           6309624,
           "Upper middle income",
           "Latin America & Caribbean "
          ],
          [
           628886,
           "Upper middle income",
           "Latin America & Caribbean "
          ],
          [
           1367510,
           "High income",
           "Latin America & Caribbean "
          ],
          [
           3388081,
           "High income",
           "Latin America & Caribbean "
          ],
          [
           101323,
           "Upper middle income",
           "Latin America & Caribbean "
          ]
         ],
         "hovertemplate": "<b>%{hovertext}</b><br><br>GDP per Capita (USD)=%{x:,.0f}<br>Voice and Accountability Score=%{y:.3f}<br>Population=%{customdata[0]:,.0f}<br>Income Level=%{customdata[1]}<extra></extra>",
         "hovertext": [
          "AW",
          "AR",
          "AG",
          "BS",
          "BZ",
          "BO",
          "BR",
          "BB",
          "CL",
          "CO",
          "CR",
          "DM",
          "DO",
          "EC",
          "GD",
          "GT",
          "GY",
          "HN",
          "HT",
          "JM",
          "KN",
          "LC",
          "MX",
          "NI",
          "PA",
          "PE",
          "PR",
          "PY",
          "SV",
          "SR",
          "TT",
          "UY",
          "VC"
         ],
         "legendgroup": "Latin America & Caribbean ",
         "marker": {
          "color": "#636efa",
          "opacity": 0.7,
          "size": {
           "bdata": "AAAAAPA1+kAAAAAI47aFQQAAAABAyPZAAAAAAEBhGEEAAAAAiBcZQQAAAOCXWmdBAAAA8oArqUEAAAAAgDsRQQAAADCFv3JBAAAAANzyiEEAAABA3XlTQQAAAADgPPBAAAAAINicZUEAAAAwqyVxQQAAAACQlfxAAAAAYAJJcUEAAAAA4jcpQQAAAGCuTWRBAAAAwFIyZkEAAAAAdapFQQAAAADA1OZAAAAAAKjiBUEAAAC8r+6eQQAAAECvB1pBAAAAwEECUUEAAACIiyOAQQAAAABocUhBAAAAgLwbWkEAAAAAvhFYQQAAAAAsMSNBAAAAANbdNEEAAACAWNlJQQAAAACwvPhA",
           "dtype": "f8"
          },
          "sizemode": "area",
          "sizeref": 399463.7766666667,
          "symbol": "circle"
         },
         "mode": "markers",
         "name": "Latin America & Caribbean ",
         "orientation": "v",
         "showlegend": true,
         "type": "scatter",
         "x": {
          "bdata": "AAAAAABq3UAAAAAAAC3JQAAAAAAAatNAAAAAAIBa4UAAAAAAAOq6QAAAAAAASKxAAAAAAAAvwkAAAAAAgFXWQAAAAAAAJ89AAAAAAABAukAAAAAAANrLQAAAAAAAg8NAAAAAAADywkAAAAAAAL65QAAAAAAAv8NAAAAAAABetUAAAAAAgFrRQAAAAAAAgKZAAAAAAACAm0AAAAAAAEy4QAAAAAAAgdVAAAAAAABMyEAAAAAAAHDHQAAAAAAAcKJAAAAAAIBz0UAAAAAAAKi7QAAAAACArdhAAAAAAAA4uEAAAAAAAFazQAAAAAAAULRAAAAAAICZ00AAAAAAgGLTQAAAAAAARsRA",
          "dtype": "f8"
         },
         "xaxis": "x",
         "y": {
          "bdata": "+v//v4pO8D8DAABA4xXhPwMAAEAovec//v//3/qH6z////+fhj/hP/v////k+NC//v//f62A2D8KAADgVpjyP/n//x+FSfA/+f//n3FEyj/+//8fVh7xPwIAAGCbJ+k/BAAAYFXb1D8GAACg1rKvvwMAAGCzHOg//f//fxAU4b////8fOAzDPwEAACByCd2/CwAAADDh8r8CAACAoQ7iP/z//59qxug/////f/ua6z8aAADAR3a9vxEAAKCGMva//v//H4eF4T8BAABAbveuPwEAAABsBd0/+v//nzWEpT/6//+fK13ev/f//x88m9Y//f//39jc4z/t//9fa4r0PwQAAMDimeo/",
          "dtype": "f8"
         },
         "yaxis": "y"
        },
        {
         "customdata": [
          [
           41454761,
           "Low income",
           "Middle East, North Africa, Afghanistan & Pakistan"
          ],
          [
           10483751,
           "High income",
           "Middle East, North Africa, Afghanistan & Pakistan"
          ],
          [
           1577059,
           "High income",
           "Middle East, North Africa, Afghanistan & Pakistan"
          ],
          [
           1152944,
           "Lower middle income",
           "Middle East, North Africa, Afghanistan & Pakistan"
          ],
          [
           46164219,
           "Upper middle income",
           "Middle East, North Africa, Afghanistan & Pakistan"
          ],
          [
           114535772,
           "Lower middle income",
           "Middle East, North Africa, Afghanistan & Pakistan"
          ],
          [
           90608707,
           "Upper middle income",
           "Middle East, North Africa, Afghanistan & Pakistan"
          ],
          [
           45074049,
           "Upper middle income",
           "Middle East, North Africa, Afghanistan & Pakistan"
          ],
          [
           9849000,
           "High income",
           "Middle East, North Africa, Afghanistan & Pakistan"
          ],
          [
           11439213,
           "Lower middle income",
           "Middle East, North Africa, Afghanistan & Pakistan"
          ],
          [
           4853420,
           "High income",
           "Middle East, North Africa, Afghanistan & Pakistan"
          ],
          [
           5773493,
           "Lower middle income",
           "Middle East, North Africa, Afghanistan & Pakistan"
          ],
          [
           7305659,
           "Upper middle income",
           "Middle East, North Africa, Afghanistan & Pakistan"
          ],
          [
           37712505,
           "Lower middle income",
           "Middle East, North Africa, Afghanistan & Pakistan"
          ],
          [
           552747,
           "High income",
           "Middle East, North Africa, Afghanistan & Pakistan"
          ],
          [
           5049269,
           "High income",
           "Middle East, North Africa, Afghanistan & Pakistan"
          ],
          [
           247504495,
           "Lower middle income",
           "Middle East, North Africa, Afghanistan & Pakistan"
          ],
          [
           5165775,
           "Lower middle income",
           "Middle East, North Africa, Afghanistan & Pakistan"
          ],
          [
           2656032,
           "High income",
           "Middle East, North Africa, Afghanistan & Pakistan"
          ],
          [
           33702731,
           "High income",
           "Middle East, North Africa, Afghanistan & Pakistan"
          ],
          [
           23594623,
           "Low income",
           "Middle East, North Africa, Afghanistan & Pakistan"
          ],
          [
           12200431,
           "Lower middle income",
           "Middle East, North Africa, Afghanistan & Pakistan"
          ]
         ],
         "hovertemplate": "<b>%{hovertext}</b><br><br>GDP per Capita (USD)=%{x:,.0f}<br>Voice and Accountability Score=%{y:.3f}<br>Population=%{customdata[0]:,.0f}<br>Income Level=%{customdata[1]}<extra></extra>",
         "hovertext": [
          "AF",
          "AE",
          "BH",
          "DJ",
          "DZ",
          "EG",
          "IR",
          "IQ",
          "IL",
          "JO",
          "KW",
          "LB",
          "LY",
          "MA",
          "MT",
          "OM",
          "PK",
          "PS",
          "QA",
          "SA",
          "SY",
          "TN"
         ],
         "legendgroup": "Middle East, North Africa, Afghanistan & Pakistan",
         "marker": {
          "color": "#EF553B",
          "opacity": 0.7,
          "size": {
           "bdata": "AAAASGXEg0EAAADgBP9jQQAAAABjEDhBAAAAALCXMUEAAADYRwOGQQAAAHC1TptBAAAADFGalUEAAAAINH6FQQAAAAAVyWJBAAAAoI3RZUEAAAAAq4NSQQAAAEAtBlZBAAAAwG7eW0EAAADIk/uBQQAAAABW3iBBAAAAQO1CU0EAAADePIGtQQAAAMCztFNBAAAAAJBDREEAAABYGhKAQQAAAPBngHZBAAAA4D1FZ0E=",
           "dtype": "f8"
          },
          "sizemode": "area",
          "sizeref": 399463.7766666667,
          "symbol": "circle"
         },
         "mode": "markers",
         "name": "Middle East, North Africa, Afghanistan & Pakistan",
         "orientation": "v",
         "showlegend": true,
         "type": "scatter",
         "x": {
          "bdata": "AAAAAAAgd0AAAAAAgO/nQAAAAAAAy9tAAAAAAABsq0AAAAAAAFazQAAAAAAAAK5AAAAAAAAgskAAAAAAACC3QAAAAAAAgepAAAAAAABisUAAAAAAwIXkQAAAAAAAJK1AAAAAAAA0t0AAAAAAAGCtQAAAAACA2OBAAAAAAACN00AAAAAAANCWQAAAAAAA1rBAAAAAAGBk80AAAAAAQL3hQAAAAAAAEIhAAAAAAAAUrkA=",
          "dtype": "f8"
         },
         "xaxis": "x",
         "y": {
          "bdata": "6v//33ul/b/4///f4ITxv+3//5+aC/a/6///H7lj9L/9//8/NVvvvwkAAAD7Efa/AgAAgOFB978DAADAdq/uvwMAAODQneQ//////2fK6L////9/VAPjv/z//3+z7+S/EgAA4ANC9r/4//9/CVDfv/z//1+oPO0/EwAAgAkS8L/8////RrHuvw0AAOCZ4/G//////ycP778DAADAxar2vw8AAGC7qv2/CAAAYDVAy78=",
          "dtype": "f8"
         },
         "yaxis": "y"
        },
        {
         "customdata": [
          [
           36749906,
           "Lower middle income",
           "Sub-Saharan Africa "
          ],
          [
           13689450,
           "Low income",
           "Sub-Saharan Africa "
          ],
          [
           14111034,
           "Lower middle income",
           "Sub-Saharan Africa "
          ],
          [
           23025776,
           "Low income",
           "Sub-Saharan Africa "
          ],
          [
           2480244,
           "Upper middle income",
           "Sub-Saharan Africa "
          ],
          [
           5152421,
           "Low income",
           "Sub-Saharan Africa "
          ],
          [
           31165654,
           "Lower middle income",
           "Sub-Saharan Africa "
          ],
          [
           28372687,
           "Lower middle income",
           "Sub-Saharan Africa "
          ],
          [
           105789731,
           "Low income",
           "Sub-Saharan Africa "
          ],
          [
           6182885,
           "Lower middle income",
           "Sub-Saharan Africa "
          ],
          [
           850387,
           "Lower middle income",
           "Sub-Saharan Africa "
          ],
          [
           522331,
           "Upper middle income",
           "Sub-Saharan Africa "
          ],
          [
           2484789,
           "Upper middle income",
           "Sub-Saharan Africa "
          ],
          [
           33787914,
           "Lower middle income",
           "Sub-Saharan Africa "
          ],
          [
           14405468,
           "Lower middle income",
           "Sub-Saharan Africa "
          ],
          [
           2697845,
           "Low income",
           "Sub-Saharan Africa "
          ],
          [
           2153339,
           "Low income",
           "Sub-Saharan Africa "
          ],
          [
           1847549,
           "Upper middle income",
           "Sub-Saharan Africa "
          ],
          [
           55339003,
           "Lower middle income",
           "Sub-Saharan Africa "
          ],
          [
           5493031,
           "Low income",
           "Sub-Saharan Africa "
          ],
          [
           2311472,
           "Lower middle income",
           "Sub-Saharan Africa "
          ],
          [
           31195932,
           "Low income",
           "Sub-Saharan Africa "
          ],
          [
           23769127,
           "Low income",
           "Sub-Saharan Africa "
          ],
          [
           33635160,
           "Low income",
           "Sub-Saharan Africa "
          ],
          [
           5022441,
           "Lower middle income",
           "Sub-Saharan Africa "
          ],
          [
           1261041,
           "Upper middle income",
           "Sub-Saharan Africa "
          ],
          [
           21104482,
           "Low income",
           "Sub-Saharan Africa "
          ],
          [
           2963095,
           "Lower middle income",
           "Sub-Saharan Africa "
          ],
          [
           26159867,
           "Low income",
           "Sub-Saharan Africa "
          ],
          [
           227882945,
           "Lower middle income",
           "Sub-Saharan Africa "
          ],
          [
           13954471,
           "Low income",
           "Sub-Saharan Africa "
          ],
          [
           50042791,
           "Low income",
           "Sub-Saharan Africa "
          ],
          [
           18077573,
           "Lower middle income",
           "Sub-Saharan Africa "
          ],
          [
           8460512,
           "Low income",
           "Sub-Saharan Africa "
          ],
          [
           18358615,
           "Low income",
           "Sub-Saharan Africa "
          ],
          [
           230871,
           "Lower middle income",
           "Sub-Saharan Africa "
          ],
          [
           1230506,
           "Lower middle income",
           "Sub-Saharan Africa "
          ],
          [
           119773,
           "High income",
           "Sub-Saharan Africa "
          ],
          [
           19319064,
           "Low income",
           "Sub-Saharan Africa "
          ],
          [
           9304337,
           "Low income",
           "Sub-Saharan Africa "
          ],
          [
           66617606,
           "Lower middle income",
           "Sub-Saharan Africa "
          ],
          [
           48656601,
           "Low income",
           "Sub-Saharan Africa "
          ],
          [
           63212384,
           "Upper middle income",
           "Sub-Saharan Africa "
          ],
          [
           20723965,
           "Lower middle income",
           "Sub-Saharan Africa "
          ],
          [
           16340822,
           "Lower middle income",
           "Sub-Saharan Africa "
          ]
         ],
         "hovertemplate": "<b>%{hovertext}</b><br><br>GDP per Capita (USD)=%{x:,.0f}<br>Voice and Accountability Score=%{y:.3f}<br>Population=%{customdata[0]:,.0f}<br>Income Level=%{customdata[1]}<extra></extra>",
         "hovertext": [
          "AO",
          "BI",
          "BJ",
          "BF",
          "BW",
          "CF",
          "CI",
          "CM",
          "CD",
          "CG",
          "KM",
          "CV",
          "GA",
          "GH",
          "GN",
          "GM",
          "GW",
          "GQ",
          "KE",
          "LR",
          "LS",
          "MG",
          "ML",
          "MZ",
          "MR",
          "MU",
          "MW",
          null,
          "NE",
          "NG",
          "RW",
          "SD",
          "SN",
          "SL",
          "SO",
          "ST",
          "SZ",
          "SC",
          "TD",
          "TG",
          "TZ",
          "UG",
          "ZA",
          "ZM",
          "ZW"
         ],
         "legendgroup": "Sub-Saharan Africa ",
         "marker": {
          "color": "#00cc96",
          "opacity": 0.7,
          "size": {
           "bdata": "AAAAkBKGgUEAAABATRxqQQAAAEAn6mpBAAAAAIf1dUEAAAAAOuxCQQAAAECpp1NBAAAAYM24fUEAAADw7A57QQAAAIzkOJlBAAAAQPmVV0EAAAAApvMpQQAAAABs4R9BAAAAgBr1QkEAAABQgByAQQAAAIDreWtBAAAAgDqVREEAAACAvW1AQQAAAAD9MDxBAAAA2D9jikEAAADASfRUQQAAAACYokFBAAAAwDHAfUEAAABwAqt2QQAAAMDaCYBBAAAAQLooU0EAAAAA8T0zQQAAACB2IHRBAAAAgEubRkEAAACwr/J4QQAAAIJvKqtBAAAA4LSdakEAAAA4vdyHQQAAAFB4PXFBAAAAABwjYEEAAABwFYJxQQAAAAC4LgxBAAAAAKrGMkEAAAAA0D39QAAAAICRbHJBAAAAICK/YUEAAAAwCMSPQQAAAMiGM4dBAAAAAFskjkEAAADQj8NzQQAAAMDqKm9B",
           "dtype": "f8"
          },
          "sizemode": "area",
          "sizeref": 399463.7766666667,
          "symbol": "circle"
         },
         "mode": "markers",
         "name": "Sub-Saharan Africa ",
         "orientation": "v",
         "showlegend": true,
         "type": "scatter",
         "x": {
          "bdata": "AAAAAACkoEAAAAAAAIBrQAAAAAAAuJVAAAAAAADgikAAAAAAAFTAQAAAAAAAkIBAAAAAAACIo0AAAAAAAGiaQAAAAAAAAIRAAAAAAAAko0AAAAAAAPCZQAAAAAAArLJAAAAAAABGvkAAAAAAANChQAAAAAAA8JRAAAAAAAAwi0AAAAAAAFCOQAAAAAAA6LJAAAAAAAB8oEAAAAAAAICGQAAAAAAAiJNAAAAAAADgf0AAAAAAAJCPQAAAAAAA4IBAAAAAAACkoEAAAAAAAJPHQAAAAAAAwIJAAAAAAADCsEAAAAAAAACEQAAAAAAAYJ1AAAAAAABAj0AAAAAAAACEQAAAAAAAeJlAAAAAAAAwi0AAAAAAAHCCQAAAAAAAKKRAAAAAAABMrUAAAAAAAATQQAAAAAAAQI9AAAAAAABAj0AAAAAAABCTQAAAAAAAUI5AAAAAAABQuUAAAAAAACiUQAAAAAAAGKBA",
          "dtype": "f8"
         },
         "xaxis": "x",
         "y": {
          "bdata": "AAAAYJKX57/s//+/5d71v/P//5/DB8y/AAAAgJjq6b/+////OyHgPxYAACArMvS/+f//398H2L/r//9f9g/xv+3//7/MafO//v//f3d38r8DAACgxOHpvwQAACDEqO4//v//v69p7b8IAAAgM0PaP/H//z8jUvK/////nxP/pL/+////z/XbvwYAAMBh1Pq/AAAAYKbJv7/6//9f/JerP/f//18TqJ4/BgAAQPVy1L/y//+/HTDwvwAAAIAT/eK/AAAAIAH/5L////8f37PjP/3//z+AW7M/BAAA4COv4j8DAABAaEHmvwMAAMBUi+G//v//n9/f7L8IAABgda35v/L///8kJsE/9///Xxf40r/r//+/V5r6v/z////GJdA//f//n1ui8r8EAADAHc7hP/f//z+C9fa//f//X/EL6b8CAAAgShThv/z//z9dROa/AQAAICjW5z8AAACgaYyovwQAAMBse/G/",
          "dtype": "f8"
         },
         "yaxis": "y"
        },
        {
         "customdata": [
          [
           2745972,
           "Upper middle income",
           "Europe & Central Asia"
          ],
          [
           80856,
           "High income",
           "Europe & Central Asia"
          ],
          [
           2964300,
           "Upper middle income",
           "Europe & Central Asia"
          ],
          [
           9131761,
           "High income",
           "Europe & Central Asia"
          ],
          [
           10153958,
           "Upper middle income",
           "Europe & Central Asia"
          ],
          [
           11787423,
           "High income",
           "Europe & Central Asia"
          ],
          [
           6446596,
           "High income",
           "Europe & Central Asia"
          ],
          [
           3185073,
           "Upper middle income",
           "Europe & Central Asia"
          ],
          [
           9178298,
           "Upper middle income",
           "Europe & Central Asia"
          ],
          [
           8888093,
           "High income",
           "Europe & Central Asia"
          ],
          [
           1344976,
           "High income",
           "Europe & Central Asia"
          ],
          [
           10864042,
           "High income",
           "Europe & Central Asia"
          ],
          [
           83901923,
           "High income",
           "Europe & Central Asia"
          ],
          [
           5946952,
           "High income",
           "Europe & Central Asia"
          ],
          [
           48347910,
           "High income",
           "Europe & Central Asia"
          ],
          [
           1370286,
           "High income",
           "Europe & Central Asia"
          ],
          [
           5583911,
           "High income",
           "Europe & Central Asia"
          ],
          [
           68287487,
           "High income",
           "Europe & Central Asia"
          ],
          [
           68492000,
           "High income",
           "Europe & Central Asia"
          ],
          [
           3715483,
           "Upper middle income",
           "Europe & Central Asia"
          ],
          [
           10405588,
           "High income",
           "Europe & Central Asia"
          ],
          [
           3859686,
           "High income",
           "Europe & Central Asia"
          ],
          [
           9592186,
           "High income",
           "Europe & Central Asia"
          ],
          [
           5307600,
           "High income",
           "Europe & Central Asia"
          ],
          [
           393349,
           "High income",
           "Europe & Central Asia"
          ],
          [
           58993475,
           "High income",
           "Europe & Central Asia"
          ],
          [
           20330104,
           "Upper middle income",
           "Europe & Central Asia"
          ],
          [
           7099750,
           "Lower middle income",
           "Europe & Central Asia"
          ],
          [
           2871585,
           "High income",
           "Europe & Central Asia"
          ],
          [
           666430,
           "High income",
           "Europe & Central Asia"
          ],
          [
           1877445,
           "High income",
           "Europe & Central Asia"
          ],
          [
           2457783,
           "Upper middle income",
           "Europe & Central Asia"
          ],
          [
           1827816,
           "Upper middle income",
           "Europe & Central Asia"
          ],
          [
           623529,
           "Upper middle income",
           "Europe & Central Asia"
          ],
          [
           17877117,
           "High income",
           "Europe & Central Asia"
          ],
          [
           5519594,
           "High income",
           "Europe & Central Asia"
          ],
          [
           36687353,
           "High income",
           "Europe & Central Asia"
          ],
          [
           10578174,
           "High income",
           "Europe & Central Asia"
          ],
          [
           19059479,
           "High income",
           "Europe & Central Asia"
          ],
          [
           143826130,
           "High income",
           "Europe & Central Asia"
          ],
          [
           6623183,
           "Upper middle income",
           "Europe & Central Asia"
          ],
          [
           5426740,
           "High income",
           "Europe & Central Asia"
          ],
          [
           2120461,
           "High income",
           "Europe & Central Asia"
          ],
          [
           10536632,
           "High income",
           "Europe & Central Asia"
          ],
          [
           10389799,
           "Lower middle income",
           "Europe & Central Asia"
          ],
          [
           7364438,
           "Upper middle income",
           "Europe & Central Asia"
          ],
          [
           85325965,
           "Upper middle income",
           "Europe & Central Asia"
          ],
          [
           37732836,
           "Upper middle income",
           "Europe & Central Asia"
          ],
          [
           35652307,
           "Lower middle income",
           "Europe & Central Asia"
          ],
          [
           1682668,
           "Upper middle income",
           "Europe & Central Asia"
          ]
         ],
         "hovertemplate": "<b>%{hovertext}</b><br><br>GDP per Capita (USD)=%{x:,.0f}<br>Voice and Accountability Score=%{y:.3f}<br>Population=%{customdata[0]:,.0f}<br>Income Level=%{customdata[1]}<extra></extra>",
         "hovertext": [
          "AL",
          "AD",
          "AM",
          "AT",
          "AZ",
          "BE",
          "BG",
          "BA",
          "BY",
          "CH",
          "CY",
          "CZ",
          "DE",
          "DK",
          "ES",
          "EE",
          "FI",
          "FR",
          "GB",
          "GE",
          "GR",
          "HR",
          "HU",
          "IE",
          "IS",
          "IT",
          "KZ",
          "KG",
          "LT",
          "LU",
          "LV",
          "MD",
          "MK",
          "ME",
          "NL",
          "NO",
          "PL",
          "PT",
          "RO",
          "RU",
          "RS",
          "SK",
          "SI",
          "SE",
          "TJ",
          "TM",
          "TR",
          "UA",
          "UZ",
          "XK"
         ],
         "legendgroup": "Europe & Central Asia",
         "marker": {
          "color": "#ab63fa",
          "opacity": 0.7,
          "size": {
           "bdata": "AAAAADrzREEAAAAAgL3zQAAAAACmnUZBAAAAIN5qYUEAAADA/F1jQQAAAOCTe2ZBAAAAAIGXWEEAAACA2ExIQQAAAECXgWFBAAAAoOPzYEEAAAAA0IU0QQAAAEC1uGRBAAAAjPcAlEEAAAAAkq9WQQAAADDYDYdBAAAAAK7oNEEAAADACU1VQQAAAPzvR5BBAAAAgGtUkEEAAACAzVhMQQAAAIDa2GNBAAAAAHNyTUEAAABAr0tiQQAAAAA0P1RBAAAAABQCGEEAAAAYWiGMQQAAAIBnY3NBAAAAgFkVW0EAAACAkOhFQQAAAAB8ViRBAAAAAMWlPEEAAACAW8BCQQAAAADo4ztBAAAAAFIHI0EAAADQhwxxQQAAAIA6DlVBAAAAyG9+gUEAAADAHy1kQQAAAHAxLXJBAAAApDkloUEAAADA80NZQQAAAACNs1RBAAAAgIYtQEEAAAAA1xhkQQAAAOAk0WNBAAAAgNUXXEEAAAA04leUQQAAACAP/oFBAAAAmBYAgUEAAAAA7Kw5QQ==",
           "dtype": "f8"
          },
          "sizemode": "area",
          "sizeref": 399463.7766666667,
          "symbol": "circle"
         },
         "mode": "markers",
         "name": "Europe & Central Asia",
         "orientation": "v",
         "showlegend": true,
         "type": "scatter",
         "x": {
          "bdata": "AAAAAAAAvkAAAAAAAGbnQAAAAAAAuLpAAAAAAID26kAAAAAAAA66QAAAAACA3epAAAAAAADfy0AAAAAAACfAQAAAAAAAqr5AAAAAAGBg90AAAAAAABjgQAAAAACActxAAAAAAADW6kAAAAAAwOfxQAAAAACAFeBAAAAAAADv2kAAAAAAAPDpQAAAAAAAMOZAAAAAAAC250AAAAAAADa6QAAAAAAAzNVAAAAAAIAb1EAAAAAAAGXTQAAAAABASPNAAAAAAIC380AAAAAAQNriQAAAAAAA4cRAAAAAAADAnEAAAAAAALDYQAAAAAAg4/VAAAAAAADm1EAAAAAAAGq4QAAAAAAA3L5AAAAAAABdxkAAAAAAgInuQAAAAAAgMPlAAAAAAAB500AAAAAAAIzZQAAAAACATNBAAAAAAAA+zEAAAAAAAATFQAAAAAAAj9ZAAAAAAIBD3kAAAAAAwL3tQAAAAAAA4JVAAAAAAAAdwEAAAAAAAOnGQAAAAAAAdLNAAAAAAAB8pUAAAAAAAJK4QA==",
          "dtype": "f8"
         },
         "xaxis": "x",
         "y": {
          "bdata": "8///f7OhxT8BAABA7ubvP/7//z8bo7M/6///H3mU9j8HAACgpJX2vwUAAKAvNvU/AwAAYC7l2D/+//8/IXLUvxEAAACorfq/EwAAQPOj+j8CAADArS/vPwgAAKCLOfE//P///9Vh9z////+/m6L6PxEAAOCcHfM/////n9CE8z/q////Rh/6P/T//z8/efI/DQAAoJwv9D8HAACA68WhPwAAAEDWMfA//f///1k74j////9/hQLXP/L//188vPc/AgAA4Gki9z/z///fNtnxP+z///+7D/C/BAAAIHUk57/w//9fRyPxP+///x9jH/o/AQAAAOLG7z8KAABALk/OP/f//99D08Q/+v//X27j1T8KAACAdeb4Pw4AAECib/w/BAAAwOIL5D8IAABAamHzPwQAAKANGuA/FQAAAJKR9L////8f+yisv/z//98AM+0/CQAAwP1D8T/9//+fgjL5PwEAAOCbJ/q/8f//H9gh/r8EAADA2InrvxgAAOAxvbm/6///f1r09L8DAACgNry2vw==",
          "dtype": "f8"
         },
         "yaxis": "y"
        },
        {
         "customdata": [
          [
           26652777,
           "High income",
           "East Asia & Pacific"
          ],
          [
           458949,
           "High income",
           "East Asia & Pacific"
          ],
          [
           1410710000,
           "Upper middle income",
           "East Asia & Pacific"
          ],
          [
           924145,
           "Upper middle income",
           "East Asia & Pacific"
          ],
          [
           112630,
           "Lower middle income",
           "East Asia & Pacific"
          ],
          [
           7536100,
           "High income",
           "East Asia & Pacific"
          ],
          [
           281190067,
           "Upper middle income",
           "East Asia & Pacific"
          ],
          [
           124516650,
           "High income",
           "East Asia & Pacific"
          ],
          [
           17423880,
           "Lower middle income",
           "East Asia & Pacific"
          ],
          [
           132530,
           "Lower middle income",
           "East Asia & Pacific"
          ],
          [
           51712619,
           "High income",
           "East Asia & Pacific"
          ],
          [
           7664993,
           "Lower middle income",
           "East Asia & Pacific"
          ],
          [
           678800,
           "High income",
           "East Asia & Pacific"
          ],
          [
           38827,
           "Upper middle income",
           "East Asia & Pacific"
          ],
          [
           54133798,
           "Lower middle income",
           "East Asia & Pacific"
          ],
          [
           3481145,
           "Upper middle income",
           "East Asia & Pacific"
          ],
          [
           35126298,
           "Upper middle income",
           "East Asia & Pacific"
          ],
          [
           11875,
           "High income",
           "East Asia & Pacific"
          ],
          [
           5245000,
           "High income",
           "East Asia & Pacific"
          ],
          [
           114891199,
           "Lower middle income",
           "East Asia & Pacific"
          ],
          [
           17727,
           "High income",
           "East Asia & Pacific"
          ],
          [
           10389635,
           "Lower middle income",
           "East Asia & Pacific"
          ],
          [
           5917648,
           "High income",
           "East Asia & Pacific"
          ],
          [
           800005,
           "Lower middle income",
           "East Asia & Pacific"
          ],
          [
           71702435,
           "Upper middle income",
           "East Asia & Pacific"
          ],
          [
           1384286,
           "Lower middle income",
           "East Asia & Pacific"
          ],
          [
           104597,
           "Upper middle income",
           "East Asia & Pacific"
          ],
          [
           9816,
           "Upper middle income",
           "East Asia & Pacific"
          ],
          [
           100352192,
           "Lower middle income",
           "East Asia & Pacific"
          ],
          [
           320409,
           "Lower middle income",
           "East Asia & Pacific"
          ],
          [
           216663,
           "Upper middle income",
           "East Asia & Pacific"
          ]
         ],
         "hovertemplate": "<b>%{hovertext}</b><br><br>GDP per Capita (USD)=%{x:,.0f}<br>Voice and Accountability Score=%{y:.3f}<br>Population=%{customdata[0]:,.0f}<br>Income Level=%{customdata[1]}<extra></extra>",
         "hovertext": [
          "AU",
          "BN",
          "CN",
          "FJ",
          "FM",
          "HK",
          "ID",
          "JP",
          "KH",
          "KI",
          "KR",
          "LA",
          "MO",
          "MH",
          "MM",
          "MN",
          "MY",
          "NR",
          "NZ",
          "PH",
          "PW",
          "PG",
          "SG",
          "SB",
          "TH",
          "TL",
          "TO",
          "TV",
          "VN",
          "VU",
          "WS"
         ],
         "legendgroup": "East Asia & Pacific",
         "marker": {
          "color": "#FFA15A",
          "opacity": 0.7,
          "size": {
           "bdata": "AAAAkAZreUEAAAAAFAMcQQAAAHxuBdVBAAAAAOIzLEEAAAAAYH/7QAAAAAB5v1xBAAAAs57CsEEAAACo5K+dQQAAAIDgnXBBAAAAAJAtAEEAAABYk6iIQQAAAEBYPV1BAAAAACC3JEEAAAAAYPXiQAAAADAh0IlBAAAAgByPSkEAAADQ4L+AQQAAAACAMcdAAAAAABICVEEAAAD8ZmSbQQAAAADAT9FAAAAAYBDRY0EAAAAA9JJWQQAAAAAKaihBAAAAjF4YkUEAAAAAXh81QQAAAABQiflAAAAAAAAsw0AAAAAAA+2XQQAAAABkjhNBAAAAALhyCkE=",
           "dtype": "f8"
          },
          "sizemode": "area",
          "sizeref": 399463.7766666667,
          "symbol": "circle"
         },
         "mode": "markers",
         "name": "East Asia & Pacific",
         "orientation": "v",
         "showlegend": true,
         "type": "scatter",
         "x": {
          "bdata": "AAAAAADX7kAAAAAAwMrgQAAAAAAA0cpAAAAAAAAwtkAAAAAAACKwQAAAAADAz+pAAAAAAADKskAAAAAAADjjQAAAAAAArKJAAAAAAADUrEAAAAAAQFThQAAAAAAAfKBAAAAAAMDU70AAAAAAALS+QAAAAAAAOJNAAAAAAAAGs0AAAAAAAN/GQAAAAACAMddAAAAAAAC750AAAAAAAOCwQAAAAAAAe8tAAAAAAADgpUAAAAAAoA3xQAAAAAAAfKBAAAAAAAAWvEAAAAAAAJCfQAAAAAAAkLVAAAAAAAAhwUAAAAAAADawQAAAAAAA7K1AAAAAAAB8sEA=",
          "dtype": "f8"
         },
         "xaxis": "x",
         "y": {
          "bdata": "+P//nwob+D8AAADA/eTmvwcAAGCnEvi/BQAAIKHTxz/3//8ft1zxPwAAAOBIfdS/////XzDKwT/3//9fJrDxP/v//3/CrfS//P////xv8T/9//+/zYHrP/H//7+2Hfq/AgAAgBdM4L8EAACgSALyP/7//z9hf/2/+v//35oF0D8CAADAOW62P/3//9/sfuQ/+P//PykB+z8CAABA+T2Rv/f//x+3XPE/5f///4qGdD/+//8f1r6wv/z////aw9U//v//X+LS3L8GAABARL3bPwQAAKAc3+s/BAAAgJaT8z8KAAAAot7zvwEAAIB1FOQ/AAAAIEtQ8D8=",
          "dtype": "f8"
         },
         "yaxis": "y"
        },
        {
         "customdata": [
          [
           171466990,
           "Lower middle income",
           "South Asia"
          ],
          [
           786385,
           "Lower middle income",
           "South Asia"
          ],
          [
           1438069596,
           "Lower middle income",
           "South Asia"
          ],
          [
           22037000,
           "Lower middle income",
           "South Asia"
          ],
          [
           525994,
           "Upper middle income",
           "South Asia"
          ],
          [
           29694614,
           "Lower middle income",
           "South Asia"
          ]
         ],
         "hovertemplate": "<b>%{hovertext}</b><br><br>GDP per Capita (USD)=%{x:,.0f}<br>Voice and Accountability Score=%{y:.3f}<br>Population=%{customdata[0]:,.0f}<br>Income Level=%{customdata[1]}<extra></extra>",
         "hovertext": [
          "BD",
          "BT",
          "IN",
          "LK",
          "MV",
          "NP"
         ],
         "legendgroup": "South Asia",
         "marker": {
          "color": "#19d3f3",
          "opacity": 0.7,
          "size": {
           "bdata": "AAAA3MFwpEEAAAAAov8nQQAAANfMbdVBAAAAgCAEdUEAAAAAVA0gQQAAAGCpUXxB",
           "dtype": "f8"
          },
          "sizemode": "area",
          "sizeref": 399463.7766666667,
          "symbol": "circle"
         },
         "mode": "markers",
         "name": "South Asia",
         "orientation": "v",
         "showlegend": true,
         "type": "scatter",
         "x": {
          "bdata": "AAAAAACApkAAAAAAADitQAAAAAAAKKRAAAAAAACUq0AAAAAAAKnFQAAAAAAAWJZA",
          "dtype": "f8"
         },
         "xaxis": "x",
         "y": {
          "bdata": "AAAAQNYf6L/0//+fQp7JPwIAAIDkKrg/+///vx2Wzb/v//+flJrBv/L//x+vq5e/",
          "dtype": "f8"
         },
         "yaxis": "y"
        },
        {
         "customdata": [
          [
           40083484,
           "High income",
           "North America"
          ],
          [
           336806231,
           "High income",
           "North America"
          ]
         ],
         "hovertemplate": "<b>%{hovertext}</b><br><br>GDP per Capita (USD)=%{x:,.0f}<br>Voice and Accountability Score=%{y:.3f}<br>Population=%{customdata[0]:,.0f}<br>Income Level=%{customdata[1]}<extra></extra>",
         "hovertext": [
          "CA",
          "US"
         ],
         "legendgroup": "North America",
         "marker": {
          "color": "#FF6692",
          "opacity": 0.7,
          "size": {
           "bdata": "AAAA4AAdg0EAAABXQRO0QQ==",
           "dtype": "f8"
          },
          "sizemode": "area",
          "sizeref": 399463.7766666667,
          "symbol": "circle"
         },
         "mode": "markers",
         "name": "North America",
         "orientation": "v",
         "showlegend": true,
         "type": "scatter",
         "x": {
          "bdata": "AAAAAICw6kAAAAAAYLTzQA==",
          "dtype": "f8"
         },
         "xaxis": "x",
         "y": {
          "bdata": "AgAAgKGs9z/9///fohTsPw==",
          "dtype": "f8"
         },
         "yaxis": "y"
        }
       ],
       "layout": {
        "font": {
         "size": 12
        },
        "height": 700,
        "hovermode": "closest",
        "legend": {
         "itemsizing": "constant",
         "orientation": "v",
         "title": {
          "font": {
           "size": 14
          },
          "text": "Region"
         },
         "tracegroupgap": 0,
         "x": 1.02,
         "xanchor": "left",
         "y": 1,
         "yanchor": "top"
        },
        "template": {
         "data": {
          "bar": [
           {
            "error_x": {
             "color": "#2a3f5f"
            },
            "error_y": {
             "color": "#2a3f5f"
            },
            "marker": {
             "line": {
              "color": "#E5ECF6",
              "width": 0.5
             },
             "pattern": {
              "fillmode": "overlay",
              "size": 10,
              "solidity": 0.2
             }
            },
            "type": "bar"
           }
          ],
          "barpolar": [
           {
            "marker": {
             "line": {
              "color": "#E5ECF6",
              "width": 0.5
             },
             "pattern": {
              "fillmode": "overlay",
              "size": 10,
              "solidity": 0.2
             }
            },
            "type": "barpolar"
           }
          ],
          "carpet": [
           {
            "aaxis": {
             "endlinecolor": "#2a3f5f",
             "gridcolor": "white",
             "linecolor": "white",
             "minorgridcolor": "white",
             "startlinecolor": "#2a3f5f"
            },
            "baxis": {
             "endlinecolor": "#2a3f5f",
             "gridcolor": "white",
             "linecolor": "white",
             "minorgridcolor": "white",
             "startlinecolor": "#2a3f5f"
            },
            "type": "carpet"
           }
          ],
          "choropleth": [
           {
            "colorbar": {
             "outlinewidth": 0,
             "ticks": ""
            },
            "type": "choropleth"
           }
          ],
          "contour": [
           {
            "colorbar": {
             "outlinewidth": 0,
             "ticks": ""
            },
            "colorscale": [
             [
              0,
              "#0d0887"
             ],
             [
              0.1111111111111111,
              "#46039f"
             ],
             [
              0.2222222222222222,
              "#7201a8"
             ],
             [
              0.3333333333333333,
              "#9c179e"
             ],
             [
              0.4444444444444444,
              "#bd3786"
             ],
             [
              0.5555555555555556,
              "#d8576b"
             ],
             [
              0.6666666666666666,
              "#ed7953"
             ],
             [
              0.7777777777777778,
              "#fb9f3a"
             ],
             [
              0.8888888888888888,
              "#fdca26"
             ],
             [
              1,
              "#f0f921"
             ]
            ],
            "type": "contour"
           }
          ],
          "contourcarpet": [
           {
            "colorbar": {
             "outlinewidth": 0,
             "ticks": ""
            },
            "type": "contourcarpet"
           }
          ],
          "heatmap": [
           {
            "colorbar": {
             "outlinewidth": 0,
             "ticks": ""
            },
            "colorscale": [
             [
              0,
              "#0d0887"
             ],
             [
              0.1111111111111111,
              "#46039f"
             ],
             [
              0.2222222222222222,
              "#7201a8"
             ],
             [
              0.3333333333333333,
              "#9c179e"
             ],
             [
              0.4444444444444444,
              "#bd3786"
             ],
             [
              0.5555555555555556,
              "#d8576b"
             ],
             [
              0.6666666666666666,
              "#ed7953"
             ],
             [
              0.7777777777777778,
              "#fb9f3a"
             ],
             [
              0.8888888888888888,
              "#fdca26"
             ],
             [
              1,
              "#f0f921"
             ]
            ],
            "type": "heatmap"
           }
          ],
          "histogram": [
           {
            "marker": {
             "pattern": {
              "fillmode": "overlay",
              "size": 10,
              "solidity": 0.2
             }
            },
            "type": "histogram"
           }
          ],
          "histogram2d": [
           {
            "colorbar": {
             "outlinewidth": 0,
             "ticks": ""
            },
            "colorscale": [
             [
              0,
              "#0d0887"
             ],
             [
              0.1111111111111111,
              "#46039f"
             ],
             [
              0.2222222222222222,
              "#7201a8"
             ],
             [
              0.3333333333333333,
              "#9c179e"
             ],
             [
              0.4444444444444444,
              "#bd3786"
             ],
             [
              0.5555555555555556,
              "#d8576b"
             ],
             [
              0.6666666666666666,
              "#ed7953"
             ],
             [
              0.7777777777777778,
              "#fb9f3a"
             ],
             [
              0.8888888888888888,
              "#fdca26"
             ],
             [
              1,
              "#f0f921"
             ]
            ],
            "type": "histogram2d"
           }
          ],
          "histogram2dcontour": [
           {
            "colorbar": {
             "outlinewidth": 0,
             "ticks": ""
            },
            "colorscale": [
             [
              0,
              "#0d0887"
             ],
             [
              0.1111111111111111,
              "#46039f"
             ],
             [
              0.2222222222222222,
              "#7201a8"
             ],
             [
              0.3333333333333333,
              "#9c179e"
             ],
             [
              0.4444444444444444,
              "#bd3786"
             ],
             [
              0.5555555555555556,
              "#d8576b"
             ],
             [
              0.6666666666666666,
              "#ed7953"
             ],
             [
              0.7777777777777778,
              "#fb9f3a"
             ],
             [
              0.8888888888888888,
              "#fdca26"
             ],
             [
              1,
              "#f0f921"
             ]
            ],
            "type": "histogram2dcontour"
           }
          ],
          "mesh3d": [
           {
            "colorbar": {
             "outlinewidth": 0,
             "ticks": ""
            },
            "type": "mesh3d"
           }
          ],
          "parcoords": [
           {
            "line": {
             "colorbar": {
              "outlinewidth": 0,
              "ticks": ""
             }
            },
            "type": "parcoords"
           }
          ],
          "pie": [
           {
            "automargin": true,
            "type": "pie"
           }
          ],
          "scatter": [
           {
            "fillpattern": {
             "fillmode": "overlay",
             "size": 10,
             "solidity": 0.2
            },
            "type": "scatter"
           }
          ],
          "scatter3d": [
           {
            "line": {
             "colorbar": {
              "outlinewidth": 0,
              "ticks": ""
             }
            },
            "marker": {
             "colorbar": {
              "outlinewidth": 0,
              "ticks": ""
             }
            },
            "type": "scatter3d"
           }
          ],
          "scattercarpet": [
           {
            "marker": {
             "colorbar": {
              "outlinewidth": 0,
              "ticks": ""
             }
            },
            "type": "scattercarpet"
           }
          ],
          "scattergeo": [
           {
            "marker": {
             "colorbar": {
              "outlinewidth": 0,
              "ticks": ""
             }
            },
            "type": "scattergeo"
           }
          ],
          "scattergl": [
           {
            "marker": {
             "colorbar": {
              "outlinewidth": 0,
              "ticks": ""
             }
            },
            "type": "scattergl"
           }
          ],
          "scattermap": [
           {
            "marker": {
             "colorbar": {
              "outlinewidth": 0,
              "ticks": ""
             }
            },
            "type": "scattermap"
           }
          ],
          "scattermapbox": [
           {
            "marker": {
             "colorbar": {
              "outlinewidth": 0,
              "ticks": ""
             }
            },
            "type": "scattermapbox"
           }
          ],
          "scatterpolar": [
           {
            "marker": {
             "colorbar": {
              "outlinewidth": 0,
              "ticks": ""
             }
            },
            "type": "scatterpolar"
           }
          ],
          "scatterpolargl": [
           {
            "marker": {
             "colorbar": {
              "outlinewidth": 0,
              "ticks": ""
             }
            },
            "type": "scatterpolargl"
           }
          ],
          "scatterternary": [
           {
            "marker": {
             "colorbar": {
              "outlinewidth": 0,
              "ticks": ""
             }
            },
            "type": "scatterternary"
           }
          ],
          "surface": [
           {
            "colorbar": {
             "outlinewidth": 0,
             "ticks": ""
            },
            "colorscale": [
             [
              0,
              "#0d0887"
             ],
             [
              0.1111111111111111,
              "#46039f"
             ],
             [
              0.2222222222222222,
              "#7201a8"
             ],
             [
              0.3333333333333333,
              "#9c179e"
             ],
             [
              0.4444444444444444,
              "#bd3786"
             ],
             [
              0.5555555555555556,
              "#d8576b"
             ],
             [
              0.6666666666666666,
              "#ed7953"
             ],
             [
              0.7777777777777778,
              "#fb9f3a"
             ],
             [
              0.8888888888888888,
              "#fdca26"
             ],
             [
              1,
              "#f0f921"
             ]
            ],
            "type": "surface"
           }
          ],
          "table": [
           {
            "cells": {
             "fill": {
              "color": "#EBF0F8"
             },
             "line": {
              "color": "white"
             }
            },
            "header": {
             "fill": {
              "color": "#C8D4E3"
             },
             "line": {
              "color": "white"
             }
            },
            "type": "table"
           }
          ]
         },
         "layout": {
          "annotationdefaults": {
           "arrowcolor": "#2a3f5f",
           "arrowhead": 0,
           "arrowwidth": 1
          },
          "autotypenumbers": "strict",
          "coloraxis": {
           "colorbar": {
            "outlinewidth": 0,
            "ticks": ""
           }
          },
          "colorscale": {
           "diverging": [
            [
             0,
             "#8e0152"
            ],
            [
             0.1,
             "#c51b7d"
            ],
            [
             0.2,
             "#de77ae"
            ],
            [
             0.3,
             "#f1b6da"
            ],
            [
             0.4,
             "#fde0ef"
            ],
            [
             0.5,
             "#f7f7f7"
            ],
            [
             0.6,
             "#e6f5d0"
            ],
            [
             0.7,
             "#b8e186"
            ],
            [
             0.8,
             "#7fbc41"
            ],
            [
             0.9,
             "#4d9221"
            ],
            [
             1,
             "#276419"
            ]
           ],
           "sequential": [
            [
             0,
             "#0d0887"
            ],
            [
             0.1111111111111111,
             "#46039f"
            ],
            [
             0.2222222222222222,
             "#7201a8"
            ],
            [
             0.3333333333333333,
             "#9c179e"
            ],
            [
             0.4444444444444444,
             "#bd3786"
            ],
            [
             0.5555555555555556,
             "#d8576b"
            ],
            [
             0.6666666666666666,
             "#ed7953"
            ],
            [
             0.7777777777777778,
             "#fb9f3a"
            ],
            [
             0.8888888888888888,
             "#fdca26"
            ],
            [
             1,
             "#f0f921"
            ]
           ],
           "sequentialminus": [
            [
             0,
             "#0d0887"
            ],
            [
             0.1111111111111111,
             "#46039f"
            ],
            [
             0.2222222222222222,
             "#7201a8"
            ],
            [
             0.3333333333333333,
             "#9c179e"
            ],
            [
             0.4444444444444444,
             "#bd3786"
            ],
            [
             0.5555555555555556,
             "#d8576b"
            ],
            [
             0.6666666666666666,
             "#ed7953"
            ],
            [
             0.7777777777777778,
             "#fb9f3a"
            ],
            [
             0.8888888888888888,
             "#fdca26"
            ],
            [
             1,
             "#f0f921"
            ]
           ]
          },
          "colorway": [
           "#636efa",
           "#EF553B",
           "#00cc96",
           "#ab63fa",
           "#FFA15A",
           "#19d3f3",
           "#FF6692",
           "#B6E880",
           "#FF97FF",
           "#FECB52"
          ],
          "font": {
           "color": "#2a3f5f"
          },
          "geo": {
           "bgcolor": "white",
           "lakecolor": "white",
           "landcolor": "#E5ECF6",
           "showlakes": true,
           "showland": true,
           "subunitcolor": "white"
          },
          "hoverlabel": {
           "align": "left"
          },
          "hovermode": "closest",
          "mapbox": {
           "style": "light"
          },
          "paper_bgcolor": "white",
          "plot_bgcolor": "#E5ECF6",
          "polar": {
           "angularaxis": {
            "gridcolor": "white",
            "linecolor": "white",
            "ticks": ""
           },
           "bgcolor": "#E5ECF6",
           "radialaxis": {
            "gridcolor": "white",
            "linecolor": "white",
            "ticks": ""
           }
          },
          "scene": {
           "xaxis": {
            "backgroundcolor": "#E5ECF6",
            "gridcolor": "white",
            "gridwidth": 2,
            "linecolor": "white",
            "showbackground": true,
            "ticks": "",
            "zerolinecolor": "white"
           },
           "yaxis": {
            "backgroundcolor": "#E5ECF6",
            "gridcolor": "white",
            "gridwidth": 2,
            "linecolor": "white",
            "showbackground": true,
            "ticks": "",
            "zerolinecolor": "white"
           },
           "zaxis": {
            "backgroundcolor": "#E5ECF6",
            "gridcolor": "white",
            "gridwidth": 2,
            "linecolor": "white",
            "showbackground": true,
            "ticks": "",
            "zerolinecolor": "white"
           }
          },
          "shapedefaults": {
           "line": {
            "color": "#2a3f5f"
           }
          },
          "ternary": {
           "aaxis": {
            "gridcolor": "white",
            "linecolor": "white",
            "ticks": ""
           },
           "baxis": {
            "gridcolor": "white",
            "linecolor": "white",
            "ticks": ""
           },
           "bgcolor": "#E5ECF6",
           "caxis": {
            "gridcolor": "white",
            "linecolor": "white",
            "ticks": ""
           }
          },
          "title": {
           "x": 0.05
          },
          "xaxis": {
           "automargin": true,
           "gridcolor": "white",
           "linecolor": "white",
           "ticks": "",
           "title": {
            "standoff": 15
           },
           "zerolinecolor": "white",
           "zerolinewidth": 2
          },
          "yaxis": {
           "automargin": true,
           "gridcolor": "white",
           "linecolor": "white",
           "ticks": "",
           "title": {
            "standoff": 15
           },
           "zerolinecolor": "white",
           "zerolinewidth": 2
          }
         }
        },
        "title": {
         "text": "Economic Prosperity vs. Political Voice in 2023"
        },
        "width": 1200,
        "xaxis": {
         "anchor": "y",
         "domain": [
          0,
          1
         ],
         "title": {
          "text": "GDP per Capita (USD, log scale)"
         },
         "type": "log"
        },
        "yaxis": {
         "anchor": "x",
         "domain": [
          0,
          1
         ],
         "title": {
          "text": "Voice and Accountability Score"
         }
        }
       }
      }
     },
     "metadata": {},
     "output_type": "display_data"
    }
   ],
   "source": [
    "import pandas as pd\n",
    "import plotly.express as px\n",
    "import numpy as np\n",
    "\n",
    "# put the csv back into a DataFrame\n",
    "df = pd.read_csv('world_bank_data_2023.csv', index_col=0)\n",
    "\n",
    "# Clean the data and remove rows with missing values for variables we're using\n",
    "df_clean = df.dropna(subset=['NY.GNP.PCAP.CD', 'VA.EST', 'SP.POP.TOTL'])\n",
    "\n",
    "# Create the scatter plot, using GDP per Capita as X, Voice and Accountability Scores as Y, color-code each country's point by region,\n",
    "# use bubble size to depict the population size of the country, and create hover data for each point/country\n",
    "fig = px.scatter(\n",
    "    df_clean,\n",
    "    x='NY.GNP.PCAP.CD',\n",
    "    y='VA.EST',\n",
    "    size='SP.POP.TOTL',\n",
    "    color='region',\n",
    "    hover_name=df_clean.index,\n",
    "    hover_data={\n",
    "        'NY.GNP.PCAP.CD': ':,.0f',\n",
    "        'VA.EST': ':.3f',\n",
    "        'SP.POP.TOTL': ':,.0f',\n",
    "        'incomeLevel': True,\n",
    "        'region': False\n",
    "    },\n",
    "    labels={\n",
    "        'NY.GNP.PCAP.CD': 'GDP per Capita (USD)',\n",
    "        'VA.EST': 'Voice and Accountability Score',\n",
    "        'SP.POP.TOTL': 'Population',\n",
    "        'region': 'Region',\n",
    "        'incomeLevel': 'Income Level'\n",
    "    },\n",
    "    title='Economic Prosperity vs. Political Voice in 2023',\n",
    "    size_max=60,\n",
    "    opacity=0.7\n",
    ")\n",
    "\n",
    "\n",
    "# Fixed layout so it looks better and switch to log scale for x-axis due to GDP values on differing levels of scale\n",
    "fig.update_layout(\n",
    "    width=1200,\n",
    "    height=700,\n",
    "    font=dict(size=12),\n",
    "    legend=dict(\n",
    "        title=dict(text='Region', font=dict(size=14)),\n",
    "        orientation='v',\n",
    "        yanchor='top',\n",
    "        y=1,\n",
    "        xanchor='left',\n",
    "        x=1.02\n",
    "    ),\n",
    "    hovermode='closest')\n",
    "fig.update_xaxes(type='log', title='GDP per Capita (USD, log scale)')\n",
    "\n",
    "fig.show()"
   ]
  },
  {
   "cell_type": "markdown",
   "id": "d8e3003a-47c3-4216-ab9e-651daecfc284",
   "metadata": {},
   "source": [
    "This graph shows the relationship between GDP per Capita and the Voice & Accountability Score. We can see the relationship between countries' income per person and their people's perception of their ability to participate in government elections, have free media, and various freedoms of expression. We can see a strong positive correlation. This tells us that as GDP per capita increases, so does people's ability perception of freedom."
   ]
  },
  {
   "cell_type": "code",
   "execution_count": 8,
   "id": "7e4c660f-930f-437c-a8ed-cba2cf1aecdd",
   "metadata": {},
   "outputs": [
    {
     "data": {
      "application/vnd.plotly.v1+json": {
       "config": {
        "plotlyServerURL": "https://plot.ly"
       },
       "data": [
        {
         "customdata": [
          [
           2130,
           "Lower middle income",
           "Sub-Saharan Africa "
          ],
          [
           220,
           "Low income",
           "Sub-Saharan Africa "
          ],
          [
           1390,
           "Lower middle income",
           "Sub-Saharan Africa "
          ],
          [
           860,
           "Low income",
           "Sub-Saharan Africa "
          ],
          [
           8360,
           "Upper middle income",
           "Sub-Saharan Africa "
          ],
          [
           530,
           "Low income",
           "Sub-Saharan Africa "
          ],
          [
           2500,
           "Lower middle income",
           "Sub-Saharan Africa "
          ],
          [
           1690,
           "Lower middle income",
           "Sub-Saharan Africa "
          ],
          [
           640,
           "Low income",
           "Sub-Saharan Africa "
          ],
          [
           2450,
           "Lower middle income",
           "Sub-Saharan Africa "
          ],
          [
           4780,
           "Upper middle income",
           "Sub-Saharan Africa "
          ],
          [
           7750,
           "Upper middle income",
           "Sub-Saharan Africa "
          ],
          [
           2280,
           "Lower middle income",
           "Sub-Saharan Africa "
          ],
          [
           1340,
           "Lower middle income",
           "Sub-Saharan Africa "
          ],
          [
           870,
           "Low income",
           "Sub-Saharan Africa "
          ],
          [
           970,
           "Low income",
           "Sub-Saharan Africa "
          ],
          [
           4840,
           "Upper middle income",
           "Sub-Saharan Africa "
          ],
          [
           2110,
           "Lower middle income",
           "Sub-Saharan Africa "
          ],
          [
           720,
           "Low income",
           "Sub-Saharan Africa "
          ],
          [
           1250,
           "Lower middle income",
           "Sub-Saharan Africa "
          ],
          [
           510,
           "Low income",
           "Sub-Saharan Africa "
          ],
          [
           1010,
           "Low income",
           "Sub-Saharan Africa "
          ],
          [
           540,
           "Low income",
           "Sub-Saharan Africa "
          ],
          [
           2130,
           "Lower middle income",
           "Sub-Saharan Africa "
          ],
          [
           12070,
           "Upper middle income",
           "Sub-Saharan Africa "
          ],
          [
           600,
           "Low income",
           "Sub-Saharan Africa "
          ],
          [
           4290,
           "Lower middle income",
           "Sub-Saharan Africa "
          ],
          [
           640,
           "Low income",
           "Sub-Saharan Africa "
          ],
          [
           1880,
           "Lower middle income",
           "Sub-Saharan Africa "
          ],
          [
           1000,
           "Low income",
           "Sub-Saharan Africa "
          ],
          [
           1630,
           "Lower middle income",
           "Sub-Saharan Africa "
          ],
          [
           870,
           "Low income",
           "Sub-Saharan Africa "
          ],
          [
           3750,
           "Lower middle income",
           "Sub-Saharan Africa "
          ],
          [
           16400,
           "High income",
           "Sub-Saharan Africa "
          ],
          [
           1000,
           "Low income",
           "Sub-Saharan Africa "
          ],
          [
           1000,
           "Low income",
           "Sub-Saharan Africa "
          ],
          [
           1220,
           "Lower middle income",
           "Sub-Saharan Africa "
          ],
          [
           970,
           "Low income",
           "Sub-Saharan Africa "
          ],
          [
           6480,
           "Upper middle income",
           "Sub-Saharan Africa "
          ],
          [
           1290,
           "Lower middle income",
           "Sub-Saharan Africa "
          ],
          [
           2060,
           "Lower middle income",
           "Sub-Saharan Africa "
          ]
         ],
         "hovertemplate": "<b>%{hovertext}</b><br><br>Military Expenditure (% of GDP)=%{x:.2f}<br>Voice & Accountability Score=%{y:.2f}<br>GDP per Capita=%{customdata[0]:,.0f}<br>incomeLevel=%{customdata[1]}<extra></extra>",
         "hovertext": [
          "AO",
          "BI",
          "BJ",
          "BF",
          "BW",
          "CF",
          "CI",
          "CM",
          "CD",
          "CG",
          "CV",
          "GA",
          "GH",
          "GN",
          "GM",
          "GW",
          "GQ",
          "KE",
          "LR",
          "LS",
          "MG",
          "ML",
          "MZ",
          "MR",
          "MU",
          "MW",
          null,
          "NE",
          "NG",
          "RW",
          "SN",
          "SL",
          "SZ",
          "SC",
          "TD",
          "TG",
          "TZ",
          "UG",
          "ZA",
          "ZM",
          "ZW"
         ],
         "legendgroup": "Sub-Saharan Africa ",
         "marker": {
          "color": "rgb(95, 70, 144)",
          "size": {
           "bdata": "AAAAAACkoEAAAAAAAIBrQAAAAAAAuJVAAAAAAADgikAAAAAAAFTAQAAAAAAAkIBAAAAAAACIo0AAAAAAAGiaQAAAAAAAAIRAAAAAAAAko0AAAAAAAKyyQAAAAAAARr5AAAAAAADQoUAAAAAAAPCUQAAAAAAAMItAAAAAAABQjkAAAAAAAOiyQAAAAAAAfKBAAAAAAACAhkAAAAAAAIiTQAAAAAAA4H9AAAAAAACQj0AAAAAAAOCAQAAAAAAApKBAAAAAAACTx0AAAAAAAMCCQAAAAAAAwrBAAAAAAAAAhEAAAAAAAGCdQAAAAAAAQI9AAAAAAAB4mUAAAAAAADCLQAAAAAAATK1AAAAAAAAE0EAAAAAAAECPQAAAAAAAQI9AAAAAAAAQk0AAAAAAAFCOQAAAAAAAULlAAAAAAAAolEAAAAAAABigQA==",
           "dtype": "f8"
          },
          "sizemode": "area",
          "sizeref": 257.925,
          "symbol": "circle"
         },
         "mode": "markers",
         "name": "Sub-Saharan Africa ",
         "orientation": "v",
         "showlegend": true,
         "type": "scatter",
         "x": {
          "bdata": "082xGApS9T8zQTPUe0UNQKRHQ0MrwuY/hTYXaXQFEECkSZmUEz0EQPhnsRiRSAJAzqhGiT9b7D+2NCYC6N3tP2+ZPaVeofI/2wWQM+8AAEAwPOSFRufgP8LoC56Wc/I/+CePsvTn2D+Il+F/iQEBQLr+9SaisuI/nKlq2IhJ9z92z8lch3H5Px8ZV5Zz/Ow/2C9b0RhjAkC1CoFviJT4P2B9NkT6NuU/eqHyjhmfDkC+/5vF/rX7Pxr59g2ZYwRA8SOJ2jCOwz9XJH9IjizwP9FTNM6V6gVAkm65aaOPAEA7PeoKqNXpP9tv3g0pQvQ/xy03bPJ79z8Q8ptNGu/hP0Z0nwjYF/k/OBpPCYRP+z8h2XT4mkQHQAXpZRsrDxBAxC9/qlZt8j+3ahaugLb/PyQQ/iXbdec/SrmfpRjZ9D9RobDg8tjPPw==",
          "dtype": "f8"
         },
         "xaxis": "x",
         "y": {
          "bdata": "AAAAYJKX57/s//+/5d71v/P//5/DB8y/AAAAgJjq6b/+////OyHgPxYAACArMvS/+f//398H2L/r//9f9g/xv+3//7/MafO//v//f3d38r8EAAAgxKjuP/7//7+vae2/CAAAIDND2j/x//8/I1Lyv////58T/6S//v///8/1278GAADAYdT6vwAAAGCmyb+/+v//X/yXqz/3//9fE6iePwYAAED1ctS/8v//vx0w8L8AAACAE/3ivwAAACAB/+S/////H9+z4z/9//8/gFuzPwQAAOAjr+I/AwAAQGhB5r8DAADAVIvhv/7//5/f3+y/8v///yQmwT/3//9fF/jSv/3//59bovK/BAAAwB3O4T/3//8/gvX2v/3//1/xC+m/AgAAIEoU4b/8//8/XUTmvwEAACAo1uc/AAAAoGmMqL8EAADAbHvxvw==",
          "dtype": "f8"
         },
         "yaxis": "y"
        },
        {
         "customdata": [
          [
           7680,
           "Upper middle income",
           "Europe & Central Asia"
          ],
          [
           6840,
           "Upper middle income",
           "Europe & Central Asia"
          ],
          [
           55220,
           "High income",
           "Europe & Central Asia"
          ],
          [
           6670,
           "Upper middle income",
           "Europe & Central Asia"
          ],
          [
           55020,
           "High income",
           "Europe & Central Asia"
          ],
          [
           14270,
           "High income",
           "Europe & Central Asia"
          ],
          [
           8270,
           "Upper middle income",
           "Europe & Central Asia"
          ],
          [
           7850,
           "Upper middle income",
           "Europe & Central Asia"
          ],
          [
           95750,
           "High income",
           "Europe & Central Asia"
          ],
          [
           32960,
           "High income",
           "Europe & Central Asia"
          ],
          [
           29130,
           "High income",
           "Europe & Central Asia"
          ],
          [
           54960,
           "High income",
           "Europe & Central Asia"
          ],
          [
           73340,
           "High income",
           "Europe & Central Asia"
          ],
          [
           32940,
           "High income",
           "Europe & Central Asia"
          ],
          [
           27580,
           "High income",
           "Europe & Central Asia"
          ],
          [
           53120,
           "High income",
           "Europe & Central Asia"
          ],
          [
           45440,
           "High income",
           "Europe & Central Asia"
          ],
          [
           48560,
           "High income",
           "Europe & Central Asia"
          ],
          [
           6710,
           "Upper middle income",
           "Europe & Central Asia"
          ],
          [
           22320,
           "High income",
           "Europe & Central Asia"
          ],
          [
           20590,
           "High income",
           "Europe & Central Asia"
          ],
          [
           19860,
           "High income",
           "Europe & Central Asia"
          ],
          [
           78980,
           "High income",
           "Europe & Central Asia"
          ],
          [
           38610,
           "High income",
           "Europe & Central Asia"
          ],
          [
           10690,
           "Upper middle income",
           "Europe & Central Asia"
          ],
          [
           1840,
           "Lower middle income",
           "Europe & Central Asia"
          ],
          [
           25280,
           "High income",
           "Europe & Central Asia"
          ],
          [
           89650,
           "High income",
           "Europe & Central Asia"
          ],
          [
           21400,
           "High income",
           "Europe & Central Asia"
          ],
          [
           6250,
           "Upper middle income",
           "Europe & Central Asia"
          ],
          [
           7900,
           "Upper middle income",
           "Europe & Central Asia"
          ],
          [
           11450,
           "Upper middle income",
           "Europe & Central Asia"
          ],
          [
           62540,
           "High income",
           "Europe & Central Asia"
          ],
          [
           103170,
           "High income",
           "Europe & Central Asia"
          ],
          [
           19940,
           "High income",
           "Europe & Central Asia"
          ],
          [
           26160,
           "High income",
           "Europe & Central Asia"
          ],
          [
           16690,
           "High income",
           "Europe & Central Asia"
          ],
          [
           14460,
           "High income",
           "Europe & Central Asia"
          ],
          [
           10760,
           "Upper middle income",
           "Europe & Central Asia"
          ],
          [
           23100,
           "High income",
           "Europe & Central Asia"
          ],
          [
           30990,
           "High income",
           "Europe & Central Asia"
          ],
          [
           60910,
           "High income",
           "Europe & Central Asia"
          ],
          [
           1400,
           "Lower middle income",
           "Europe & Central Asia"
          ],
          [
           11730,
           "Upper middle income",
           "Europe & Central Asia"
          ],
          [
           4980,
           "Upper middle income",
           "Europe & Central Asia"
          ],
          [
           6290,
           "Upper middle income",
           "Europe & Central Asia"
          ]
         ],
         "hovertemplate": "<b>%{hovertext}</b><br><br>Military Expenditure (% of GDP)=%{x:.2f}<br>Voice & Accountability Score=%{y:.2f}<br>GDP per Capita=%{customdata[0]:,.0f}<br>incomeLevel=%{customdata[1]}<extra></extra>",
         "hovertext": [
          "AL",
          "AM",
          "AT",
          "AZ",
          "BE",
          "BG",
          "BA",
          "BY",
          "CH",
          "CY",
          "CZ",
          "DE",
          "DK",
          "ES",
          "EE",
          "FI",
          "FR",
          "GB",
          "GE",
          "GR",
          "HR",
          "HU",
          "IE",
          "IT",
          "KZ",
          "KG",
          "LT",
          "LU",
          "LV",
          "MD",
          "MK",
          "ME",
          "NL",
          "NO",
          "PL",
          "PT",
          "RO",
          "RU",
          "RS",
          "SK",
          "SI",
          "SE",
          "TJ",
          "TR",
          "UA",
          "XK"
         ],
         "legendgroup": "Europe & Central Asia",
         "marker": {
          "color": "rgb(29, 105, 150)",
          "size": {
           "bdata": "AAAAAAAAvkAAAAAAALi6QAAAAACA9upAAAAAAAAOukAAAAAAgN3qQAAAAAAA38tAAAAAAAAnwEAAAAAAAKq+QAAAAABgYPdAAAAAAAAY4EAAAAAAgHLcQAAAAAAA1upAAAAAAMDn8UAAAAAAgBXgQAAAAAAA79pAAAAAAADw6UAAAAAAADDmQAAAAAAAtudAAAAAAAA2ukAAAAAAAMzVQAAAAACAG9RAAAAAAABl00AAAAAAQEjzQAAAAABA2uJAAAAAAADhxEAAAAAAAMCcQAAAAAAAsNhAAAAAACDj9UAAAAAAAObUQAAAAAAAarhAAAAAAADcvkAAAAAAAF3GQAAAAACAie5AAAAAACAw+UAAAAAAAHnTQAAAAAAAjNlAAAAAAIBM0EAAAAAAAD7MQAAAAAAABMVAAAAAAACP1kAAAAAAgEPeQAAAAADAve1AAAAAAADglUAAAAAAAOnGQAAAAAAAdLNAAAAAAACSuEA=",
           "dtype": "f8"
          },
          "sizemode": "area",
          "sizeref": 257.925,
          "symbol": "circle"
         },
         "mode": "markers",
         "name": "Europe & Central Asia",
         "orientation": "v",
         "showlegend": true,
         "type": "scatter",
         "x": {
          "bdata": "MzT+0GPn+z/NO7tIv80VQJLEuatMBOs/VlZHuo1oEkC2EKsuEW/zP+RnvsjWjv0/EzMdmUTe6T+TFweaZMP8P1f69neqfOY/L9XP65Ix/T+db8WoFGP4PwHmXYh+UPg/QvREaUpA/z/+aLsQ6iT4PzZ45Tno7gZAqITzJDRfA0DpTuvjenMAQHmNgOh4HgJAGXd8Affl+j8mONsREeAJQKFUBz5wevw/iQ0/ptIFAUDGH+7E/8HLP+z7NWdJsfk/aCYXikm53j8iIFXwqvkMQO1Cd5G1uQVAwuxeNEH45z/LpQNq7SMCQBCTcpJkfuE/bbSc6usu+z+oc7744iX6P4jDrjlghfg/Ll+pcmy3+T8O/4qUbakOQKYxTIAKT/g/l5Fy34PS+T8YQIDt7XQXQMw1Tddy0wZA7WJy+NwhAECoFq4t62L1P0pRLwYXk/c/G7wYf3+V8z/uqttV6gr4PwACQBuZU0JAtVccbB8R9D8=",
          "dtype": "f8"
         },
         "xaxis": "x",
         "y": {
          "bdata": "8///f7OhxT/+//8/G6OzP+v//x95lPY/BwAAoKSV9r8FAACgLzb1PwMAAGAu5dg//v//PyFy1L8RAAAAqK36vxMAAEDzo/o/AgAAwK0v7z8IAACgiznxP/z////VYfc/////v5ui+j8RAADgnB3zP////5/QhPM/6v///0Yf+j/0//8/P3nyPw0AAKCcL/Q/BwAAgOvFoT8AAABA1jHwP/3///9ZO+I/////f4UC1z/y//9fPLz3P/P//9822fE/7P///7sP8L8EAAAgdSTnv/D//19HI/E/7///H2Mf+j8BAAAA4sbvPwoAAEAuT84/9///30PTxD/6//9fbuPVPwoAAIB15vg/DgAAQKJv/D8EAADA4gvkPwgAAEBqYfM/BAAAoA0a4D8VAAAAkpH0v////x/7KKy//P//3wAz7T8JAADA/UPxP/3//5+CMvk/AQAA4Jsn+r8EAADA2InrvxgAAOAxvbm/AwAAoDa8tr8=",
          "dtype": "f8"
         },
         "yaxis": "y"
        },
        {
         "customdata": [
          [
           12890,
           "Upper middle income",
           "Latin America & Caribbean "
          ],
          [
           6890,
           "Upper middle income",
           "Latin America & Caribbean "
          ],
          [
           3620,
           "Lower middle income",
           "Latin America & Caribbean "
          ],
          [
           9310,
           "Upper middle income",
           "Latin America & Caribbean "
          ],
          [
           15950,
           "High income",
           "Latin America & Caribbean "
          ],
          [
           6720,
           "Upper middle income",
           "Latin America & Caribbean "
          ],
          [
           9700,
           "Upper middle income",
           "Latin America & Caribbean "
          ],
          [
           6590,
           "Upper middle income",
           "Latin America & Caribbean "
          ],
          [
           5470,
           "Upper middle income",
           "Latin America & Caribbean "
          ],
          [
           17770,
           "High income",
           "Latin America & Caribbean "
          ],
          [
           2880,
           "Lower middle income",
           "Latin America & Caribbean "
          ],
          [
           1760,
           "Lower middle income",
           "Latin America & Caribbean "
          ],
          [
           6220,
           "Upper middle income",
           "Latin America & Caribbean "
          ],
          [
           12000,
           "Upper middle income",
           "Latin America & Caribbean "
          ],
          [
           2360,
           "Lower middle income",
           "Latin America & Caribbean "
          ],
          [
           7080,
           "Upper middle income",
           "Latin America & Caribbean "
          ],
          [
           6200,
           "Upper middle income",
           "Latin America & Caribbean "
          ],
          [
           4950,
           "Upper middle income",
           "Latin America & Caribbean "
          ],
          [
           20070,
           "High income",
           "Latin America & Caribbean "
          ],
          [
           19850,
           "High income",
           "Latin America & Caribbean "
          ]
         ],
         "hovertemplate": "<b>%{hovertext}</b><br><br>Military Expenditure (% of GDP)=%{x:.2f}<br>Voice & Accountability Score=%{y:.2f}<br>GDP per Capita=%{customdata[0]:,.0f}<br>incomeLevel=%{customdata[1]}<extra></extra>",
         "hovertext": [
          "AR",
          "BZ",
          "BO",
          "BR",
          "CL",
          "CO",
          "DO",
          "EC",
          "GT",
          "GY",
          "HN",
          "HT",
          "JM",
          "MX",
          "NI",
          "PE",
          "PY",
          "SV",
          "TT",
          "UY"
         ],
         "legendgroup": "Latin America & Caribbean ",
         "marker": {
          "color": "rgb(56, 166, 165)",
          "size": {
           "bdata": "AAAAAAAtyUAAAAAAAOq6QAAAAAAASKxAAAAAAAAvwkAAAAAAACfPQAAAAAAAQLpAAAAAAADywkAAAAAAAL65QAAAAAAAXrVAAAAAAIBa0UAAAAAAAICmQAAAAAAAgJtAAAAAAABMuEAAAAAAAHDHQAAAAAAAcKJAAAAAAACou0AAAAAAADi4QAAAAAAAVrNAAAAAAICZ00AAAAAAgGLTQA==",
           "dtype": "f8"
          },
          "sizemode": "area",
          "sizeref": 257.925,
          "symbol": "circle"
         },
         "mode": "markers",
         "name": "Latin America & Caribbean ",
         "orientation": "v",
         "showlegend": true,
         "type": "scatter",
         "x": {
          "bdata": "Vw5RdX1B3j/9zHDLPU3qP320aOSNLfY/VH2VWKNC8T87+lUkUCD6PzNN/5ve+wZAOaxIOA605z/ZIeQDZmACQHsmHdq2UNo/PDkPvr7E4j/wy8Wrww75P4/CZdIOsqs/e731TvOW8z+HHSyHmwXlP39998y8eOE/dpCafl3w8T85bQYNCgDtP+QAv9SyivQ/snBDZCJa7D+d/7cPQAAAQA==",
          "dtype": "f8"
         },
         "xaxis": "x",
         "y": {
          "bdata": "AwAAQOMV4T////+fhj/hP/v////k+NC//v//f62A2D/5//8fhUnwP/n//59xRMo/BAAAYFXb1D8GAACg1rKvv/3//38QFOG/////HzgMwz8BAAAgcgndvwsAAAAw4fK/AgAAgKEO4j8aAADAR3a9vxEAAKCGMva/AQAAQG73rj/6//+fNYSlP/r//58rXd6//f//39jc4z/t//9fa4r0Pw==",
          "dtype": "f8"
         },
         "yaxis": "y"
        },
        {
         "customdata": [
          [
           63160,
           "High income",
           "East Asia & Pacific"
          ],
          [
           34390,
           "High income",
           "East Asia & Pacific"
          ],
          [
           13730,
           "Upper middle income",
           "East Asia & Pacific"
          ],
          [
           5680,
           "Upper middle income",
           "East Asia & Pacific"
          ],
          [
           4810,
           "Upper middle income",
           "East Asia & Pacific"
          ],
          [
           39360,
           "High income",
           "East Asia & Pacific"
          ],
          [
           2390,
           "Lower middle income",
           "East Asia & Pacific"
          ],
          [
           35490,
           "High income",
           "East Asia & Pacific"
          ],
          [
           1230,
           "Lower middle income",
           "East Asia & Pacific"
          ],
          [
           4870,
           "Upper middle income",
           "East Asia & Pacific"
          ],
          [
           11710,
           "Upper middle income",
           "East Asia & Pacific"
          ],
          [
           48600,
           "High income",
           "East Asia & Pacific"
          ],
          [
           4320,
           "Lower middle income",
           "East Asia & Pacific"
          ],
          [
           2800,
           "Lower middle income",
           "East Asia & Pacific"
          ],
          [
           69850,
           "High income",
           "East Asia & Pacific"
          ],
          [
           7190,
           "Upper middle income",
           "East Asia & Pacific"
          ],
          [
           2020,
           "Lower middle income",
           "East Asia & Pacific"
          ]
         ],
         "hovertemplate": "<b>%{hovertext}</b><br><br>Military Expenditure (% of GDP)=%{x:.2f}<br>Voice & Accountability Score=%{y:.2f}<br>GDP per Capita=%{customdata[0]:,.0f}<br>incomeLevel=%{customdata[1]}<extra></extra>",
         "hovertext": [
          "AU",
          "BN",
          "CN",
          "FJ",
          "ID",
          "JP",
          "KH",
          "KR",
          "MM",
          "MN",
          "MY",
          "NZ",
          "PH",
          "PG",
          "SG",
          "TH",
          "TL"
         ],
         "legendgroup": "East Asia & Pacific",
         "marker": {
          "color": "rgb(15, 133, 84)",
          "size": {
           "bdata": "AAAAAADX7kAAAAAAwMrgQAAAAAAA0cpAAAAAAAAwtkAAAAAAAMqyQAAAAAAAOONAAAAAAACsokAAAAAAQFThQAAAAAAAOJNAAAAAAAAGs0AAAAAAAN/GQAAAAAAAu+dAAAAAAADgsEAAAAAAAOClQAAAAACgDfFAAAAAAAAWvEAAAAAAAJCfQA==",
           "dtype": "f8"
          },
          "sizemode": "area",
          "sizeref": 257.925,
          "symbol": "circle"
         },
         "mode": "markers",
         "name": "East Asia & Pacific",
         "orientation": "v",
         "showlegend": true,
         "type": "scatter",
         "x": {
          "bdata": "mxz2zVPB/j8rW/83u8AHQKNK2ag6pfo/wMD6+04Q9T+ubRucaq7lPxj9JTUaI/M/2y2Dnqu3AEBAXQvHEX8GQCtDYUUETw5AtGk6RwM/4z+ODyPm3r/tP3J7HbNxe/M/g4fNC+/98z/3XcCytg3UP6STlILyRAVA1UhTbDim8j9d1GA2nzD0Pw==",
          "dtype": "f8"
         },
         "xaxis": "x",
         "y": {
          "bdata": "+P//nwob+D8AAADA/eTmvwcAAGCnEvi/BQAAIKHTxz////9fMMrBP/f//18msPE/+///f8Kt9L/9//+/zYHrP/7//z9hf/2/+v//35oF0D8CAADAOW62P/j//z8pAfs/AgAAQPk9kb/l////ioZ0P/7//x/WvrC//v//X+LS3L8GAABARL3bPw==",
          "dtype": "f8"
         },
         "yaxis": "y"
        },
        {
         "customdata": [
          [
           2880,
           "Lower middle income",
           "South Asia"
          ],
          [
           2580,
           "Lower middle income",
           "South Asia"
          ],
          [
           3530,
           "Lower middle income",
           "South Asia"
          ],
          [
           1430,
           "Lower middle income",
           "South Asia"
          ]
         ],
         "hovertemplate": "<b>%{hovertext}</b><br><br>Military Expenditure (% of GDP)=%{x:.2f}<br>Voice & Accountability Score=%{y:.2f}<br>GDP per Capita=%{customdata[0]:,.0f}<br>incomeLevel=%{customdata[1]}<extra></extra>",
         "hovertext": [
          "BD",
          "IN",
          "LK",
          "NP"
         ],
         "legendgroup": "South Asia",
         "marker": {
          "color": "rgb(115, 175, 72)",
          "size": {
           "bdata": "AAAAAACApkAAAAAAACikQAAAAAAAlKtAAAAAAABYlkA=",
           "dtype": "f8"
          },
          "sizemode": "area",
          "sizeref": 257.925,
          "symbol": "circle"
         },
         "mode": "markers",
         "name": "South Asia",
         "orientation": "v",
         "showlegend": true,
         "type": "scatter",
         "x": {
          "bdata": "uz4jzXZd8D/dNwkzXosDQOwti+6QPfo/3t6boRo68T8=",
          "dtype": "f8"
         },
         "xaxis": "x",
         "y": {
          "bdata": "AAAAQNYf6L8CAACA5Cq4P/v//78dls2/8v//H6+rl78=",
          "dtype": "f8"
         },
         "yaxis": "y"
        },
        {
         "customdata": [
          [
           28460,
           "High income",
           "Middle East, North Africa, Afghanistan & Pakistan"
          ],
          [
           4950,
           "Upper middle income",
           "Middle East, North Africa, Afghanistan & Pakistan"
          ],
          [
           3840,
           "Lower middle income",
           "Middle East, North Africa, Afghanistan & Pakistan"
          ],
          [
           4640,
           "Upper middle income",
           "Middle East, North Africa, Afghanistan & Pakistan"
          ],
          [
           5920,
           "Upper middle income",
           "Middle East, North Africa, Afghanistan & Pakistan"
          ],
          [
           54280,
           "High income",
           "Middle East, North Africa, Afghanistan & Pakistan"
          ],
          [
           4450,
           "Lower middle income",
           "Middle East, North Africa, Afghanistan & Pakistan"
          ],
          [
           42030,
           "High income",
           "Middle East, North Africa, Afghanistan & Pakistan"
          ],
          [
           3730,
           "Lower middle income",
           "Middle East, North Africa, Afghanistan & Pakistan"
          ],
          [
           3760,
           "Lower middle income",
           "Middle East, North Africa, Afghanistan & Pakistan"
          ],
          [
           34500,
           "High income",
           "Middle East, North Africa, Afghanistan & Pakistan"
          ],
          [
           20020,
           "High income",
           "Middle East, North Africa, Afghanistan & Pakistan"
          ],
          [
           1460,
           "Lower middle income",
           "Middle East, North Africa, Afghanistan & Pakistan"
          ],
          [
           36330,
           "High income",
           "Middle East, North Africa, Afghanistan & Pakistan"
          ],
          [
           3850,
           "Lower middle income",
           "Middle East, North Africa, Afghanistan & Pakistan"
          ]
         ],
         "hovertemplate": "<b>%{hovertext}</b><br><br>Military Expenditure (% of GDP)=%{x:.2f}<br>Voice & Accountability Score=%{y:.2f}<br>GDP per Capita=%{customdata[0]:,.0f}<br>incomeLevel=%{customdata[1]}<extra></extra>",
         "hovertext": [
          "BH",
          "DZ",
          "EG",
          "IR",
          "IQ",
          "IL",
          "JO",
          "KW",
          "LB",
          "MA",
          "MT",
          "OM",
          "PK",
          "SA",
          "TN"
         ],
         "legendgroup": "Middle East, North Africa, Afghanistan & Pakistan",
         "marker": {
          "color": "rgb(237, 173, 8)",
          "size": {
           "bdata": "AAAAAADL20AAAAAAAFazQAAAAAAAAK5AAAAAAAAgskAAAAAAACC3QAAAAAAAgepAAAAAAABisUAAAAAAwIXkQAAAAAAAJK1AAAAAAABgrUAAAAAAgNjgQAAAAAAAjdNAAAAAAADQlkAAAAAAQL3hQAAAAAAAFK5A",
           "dtype": "f8"
          },
          "sizemode": "area",
          "sizeref": 257.925,
          "symbol": "circle"
         },
         "mode": "markers",
         "name": "Middle East, North Africa, Afghanistan & Pakistan",
         "orientation": "v",
         "showlegend": true,
         "type": "scatter",
         "x": {
          "bdata": "XWEXSCDeCEARi73B61cgQDyBJzOs2+s/+SjiOMF9AEDvz3ld1pUAQPkRcocHRRVA6jNNihufE0B8wKnhOZUTQMxA2ceL0yFAfu+h+gYcDUDrTH9raeDhPynDlf/3nRVAO/gKmHJpBkBD8ZumdVgcQJ4xqgnh3AJA",
          "dtype": "f8"
         },
         "xaxis": "x",
         "y": {
          "bdata": "7f//n5oL9r/9//8/NVvvvwkAAAD7Efa/AgAAgOFB978DAADAdq/uvwMAAODQneQ//////2fK6L////9/VAPjv/z//3+z7+S/+P//fwlQ37/8//9fqDztPxMAAIAJEvC//P///0ax7r8DAADAxar2vwgAAGA1QMu/",
          "dtype": "f8"
         },
         "yaxis": "y"
        },
        {
         "customdata": [
          [
           54660,
           "High income",
           "North America"
          ],
          [
           80710,
           "High income",
           "North America"
          ]
         ],
         "hovertemplate": "<b>%{hovertext}</b><br><br>Military Expenditure (% of GDP)=%{x:.2f}<br>Voice & Accountability Score=%{y:.2f}<br>GDP per Capita=%{customdata[0]:,.0f}<br>incomeLevel=%{customdata[1]}<extra></extra>",
         "hovertext": [
          "CA",
          "US"
         ],
         "legendgroup": "North America",
         "marker": {
          "color": "rgb(225, 124, 5)",
          "size": {
           "bdata": "AAAAAICw6kAAAAAAYLTzQA==",
           "dtype": "f8"
          },
          "sizemode": "area",
          "sizeref": 257.925,
          "symbol": "circle"
         },
         "mode": "markers",
         "name": "North America",
         "orientation": "v",
         "showlegend": true,
         "type": "scatter",
         "x": {
          "bdata": "W5EJSyKw9D8DjQCHCuUKQA==",
          "dtype": "f8"
         },
         "xaxis": "x",
         "y": {
          "bdata": "AgAAgKGs9z/9///fohTsPw==",
          "dtype": "f8"
         },
         "yaxis": "y"
        }
       ],
       "layout": {
        "height": 600,
        "legend": {
         "itemsizing": "constant",
         "title": {
          "text": "region"
         },
         "tracegroupgap": 0
        },
        "plot_bgcolor": "white",
        "template": {
         "data": {
          "bar": [
           {
            "error_x": {
             "color": "#2a3f5f"
            },
            "error_y": {
             "color": "#2a3f5f"
            },
            "marker": {
             "line": {
              "color": "#E5ECF6",
              "width": 0.5
             },
             "pattern": {
              "fillmode": "overlay",
              "size": 10,
              "solidity": 0.2
             }
            },
            "type": "bar"
           }
          ],
          "barpolar": [
           {
            "marker": {
             "line": {
              "color": "#E5ECF6",
              "width": 0.5
             },
             "pattern": {
              "fillmode": "overlay",
              "size": 10,
              "solidity": 0.2
             }
            },
            "type": "barpolar"
           }
          ],
          "carpet": [
           {
            "aaxis": {
             "endlinecolor": "#2a3f5f",
             "gridcolor": "white",
             "linecolor": "white",
             "minorgridcolor": "white",
             "startlinecolor": "#2a3f5f"
            },
            "baxis": {
             "endlinecolor": "#2a3f5f",
             "gridcolor": "white",
             "linecolor": "white",
             "minorgridcolor": "white",
             "startlinecolor": "#2a3f5f"
            },
            "type": "carpet"
           }
          ],
          "choropleth": [
           {
            "colorbar": {
             "outlinewidth": 0,
             "ticks": ""
            },
            "type": "choropleth"
           }
          ],
          "contour": [
           {
            "colorbar": {
             "outlinewidth": 0,
             "ticks": ""
            },
            "colorscale": [
             [
              0,
              "#0d0887"
             ],
             [
              0.1111111111111111,
              "#46039f"
             ],
             [
              0.2222222222222222,
              "#7201a8"
             ],
             [
              0.3333333333333333,
              "#9c179e"
             ],
             [
              0.4444444444444444,
              "#bd3786"
             ],
             [
              0.5555555555555556,
              "#d8576b"
             ],
             [
              0.6666666666666666,
              "#ed7953"
             ],
             [
              0.7777777777777778,
              "#fb9f3a"
             ],
             [
              0.8888888888888888,
              "#fdca26"
             ],
             [
              1,
              "#f0f921"
             ]
            ],
            "type": "contour"
           }
          ],
          "contourcarpet": [
           {
            "colorbar": {
             "outlinewidth": 0,
             "ticks": ""
            },
            "type": "contourcarpet"
           }
          ],
          "heatmap": [
           {
            "colorbar": {
             "outlinewidth": 0,
             "ticks": ""
            },
            "colorscale": [
             [
              0,
              "#0d0887"
             ],
             [
              0.1111111111111111,
              "#46039f"
             ],
             [
              0.2222222222222222,
              "#7201a8"
             ],
             [
              0.3333333333333333,
              "#9c179e"
             ],
             [
              0.4444444444444444,
              "#bd3786"
             ],
             [
              0.5555555555555556,
              "#d8576b"
             ],
             [
              0.6666666666666666,
              "#ed7953"
             ],
             [
              0.7777777777777778,
              "#fb9f3a"
             ],
             [
              0.8888888888888888,
              "#fdca26"
             ],
             [
              1,
              "#f0f921"
             ]
            ],
            "type": "heatmap"
           }
          ],
          "histogram": [
           {
            "marker": {
             "pattern": {
              "fillmode": "overlay",
              "size": 10,
              "solidity": 0.2
             }
            },
            "type": "histogram"
           }
          ],
          "histogram2d": [
           {
            "colorbar": {
             "outlinewidth": 0,
             "ticks": ""
            },
            "colorscale": [
             [
              0,
              "#0d0887"
             ],
             [
              0.1111111111111111,
              "#46039f"
             ],
             [
              0.2222222222222222,
              "#7201a8"
             ],
             [
              0.3333333333333333,
              "#9c179e"
             ],
             [
              0.4444444444444444,
              "#bd3786"
             ],
             [
              0.5555555555555556,
              "#d8576b"
             ],
             [
              0.6666666666666666,
              "#ed7953"
             ],
             [
              0.7777777777777778,
              "#fb9f3a"
             ],
             [
              0.8888888888888888,
              "#fdca26"
             ],
             [
              1,
              "#f0f921"
             ]
            ],
            "type": "histogram2d"
           }
          ],
          "histogram2dcontour": [
           {
            "colorbar": {
             "outlinewidth": 0,
             "ticks": ""
            },
            "colorscale": [
             [
              0,
              "#0d0887"
             ],
             [
              0.1111111111111111,
              "#46039f"
             ],
             [
              0.2222222222222222,
              "#7201a8"
             ],
             [
              0.3333333333333333,
              "#9c179e"
             ],
             [
              0.4444444444444444,
              "#bd3786"
             ],
             [
              0.5555555555555556,
              "#d8576b"
             ],
             [
              0.6666666666666666,
              "#ed7953"
             ],
             [
              0.7777777777777778,
              "#fb9f3a"
             ],
             [
              0.8888888888888888,
              "#fdca26"
             ],
             [
              1,
              "#f0f921"
             ]
            ],
            "type": "histogram2dcontour"
           }
          ],
          "mesh3d": [
           {
            "colorbar": {
             "outlinewidth": 0,
             "ticks": ""
            },
            "type": "mesh3d"
           }
          ],
          "parcoords": [
           {
            "line": {
             "colorbar": {
              "outlinewidth": 0,
              "ticks": ""
             }
            },
            "type": "parcoords"
           }
          ],
          "pie": [
           {
            "automargin": true,
            "type": "pie"
           }
          ],
          "scatter": [
           {
            "fillpattern": {
             "fillmode": "overlay",
             "size": 10,
             "solidity": 0.2
            },
            "type": "scatter"
           }
          ],
          "scatter3d": [
           {
            "line": {
             "colorbar": {
              "outlinewidth": 0,
              "ticks": ""
             }
            },
            "marker": {
             "colorbar": {
              "outlinewidth": 0,
              "ticks": ""
             }
            },
            "type": "scatter3d"
           }
          ],
          "scattercarpet": [
           {
            "marker": {
             "colorbar": {
              "outlinewidth": 0,
              "ticks": ""
             }
            },
            "type": "scattercarpet"
           }
          ],
          "scattergeo": [
           {
            "marker": {
             "colorbar": {
              "outlinewidth": 0,
              "ticks": ""
             }
            },
            "type": "scattergeo"
           }
          ],
          "scattergl": [
           {
            "marker": {
             "colorbar": {
              "outlinewidth": 0,
              "ticks": ""
             }
            },
            "type": "scattergl"
           }
          ],
          "scattermap": [
           {
            "marker": {
             "colorbar": {
              "outlinewidth": 0,
              "ticks": ""
             }
            },
            "type": "scattermap"
           }
          ],
          "scattermapbox": [
           {
            "marker": {
             "colorbar": {
              "outlinewidth": 0,
              "ticks": ""
             }
            },
            "type": "scattermapbox"
           }
          ],
          "scatterpolar": [
           {
            "marker": {
             "colorbar": {
              "outlinewidth": 0,
              "ticks": ""
             }
            },
            "type": "scatterpolar"
           }
          ],
          "scatterpolargl": [
           {
            "marker": {
             "colorbar": {
              "outlinewidth": 0,
              "ticks": ""
             }
            },
            "type": "scatterpolargl"
           }
          ],
          "scatterternary": [
           {
            "marker": {
             "colorbar": {
              "outlinewidth": 0,
              "ticks": ""
             }
            },
            "type": "scatterternary"
           }
          ],
          "surface": [
           {
            "colorbar": {
             "outlinewidth": 0,
             "ticks": ""
            },
            "colorscale": [
             [
              0,
              "#0d0887"
             ],
             [
              0.1111111111111111,
              "#46039f"
             ],
             [
              0.2222222222222222,
              "#7201a8"
             ],
             [
              0.3333333333333333,
              "#9c179e"
             ],
             [
              0.4444444444444444,
              "#bd3786"
             ],
             [
              0.5555555555555556,
              "#d8576b"
             ],
             [
              0.6666666666666666,
              "#ed7953"
             ],
             [
              0.7777777777777778,
              "#fb9f3a"
             ],
             [
              0.8888888888888888,
              "#fdca26"
             ],
             [
              1,
              "#f0f921"
             ]
            ],
            "type": "surface"
           }
          ],
          "table": [
           {
            "cells": {
             "fill": {
              "color": "#EBF0F8"
             },
             "line": {
              "color": "white"
             }
            },
            "header": {
             "fill": {
              "color": "#C8D4E3"
             },
             "line": {
              "color": "white"
             }
            },
            "type": "table"
           }
          ]
         },
         "layout": {
          "annotationdefaults": {
           "arrowcolor": "#2a3f5f",
           "arrowhead": 0,
           "arrowwidth": 1
          },
          "autotypenumbers": "strict",
          "coloraxis": {
           "colorbar": {
            "outlinewidth": 0,
            "ticks": ""
           }
          },
          "colorscale": {
           "diverging": [
            [
             0,
             "#8e0152"
            ],
            [
             0.1,
             "#c51b7d"
            ],
            [
             0.2,
             "#de77ae"
            ],
            [
             0.3,
             "#f1b6da"
            ],
            [
             0.4,
             "#fde0ef"
            ],
            [
             0.5,
             "#f7f7f7"
            ],
            [
             0.6,
             "#e6f5d0"
            ],
            [
             0.7,
             "#b8e186"
            ],
            [
             0.8,
             "#7fbc41"
            ],
            [
             0.9,
             "#4d9221"
            ],
            [
             1,
             "#276419"
            ]
           ],
           "sequential": [
            [
             0,
             "#0d0887"
            ],
            [
             0.1111111111111111,
             "#46039f"
            ],
            [
             0.2222222222222222,
             "#7201a8"
            ],
            [
             0.3333333333333333,
             "#9c179e"
            ],
            [
             0.4444444444444444,
             "#bd3786"
            ],
            [
             0.5555555555555556,
             "#d8576b"
            ],
            [
             0.6666666666666666,
             "#ed7953"
            ],
            [
             0.7777777777777778,
             "#fb9f3a"
            ],
            [
             0.8888888888888888,
             "#fdca26"
            ],
            [
             1,
             "#f0f921"
            ]
           ],
           "sequentialminus": [
            [
             0,
             "#0d0887"
            ],
            [
             0.1111111111111111,
             "#46039f"
            ],
            [
             0.2222222222222222,
             "#7201a8"
            ],
            [
             0.3333333333333333,
             "#9c179e"
            ],
            [
             0.4444444444444444,
             "#bd3786"
            ],
            [
             0.5555555555555556,
             "#d8576b"
            ],
            [
             0.6666666666666666,
             "#ed7953"
            ],
            [
             0.7777777777777778,
             "#fb9f3a"
            ],
            [
             0.8888888888888888,
             "#fdca26"
            ],
            [
             1,
             "#f0f921"
            ]
           ]
          },
          "colorway": [
           "#636efa",
           "#EF553B",
           "#00cc96",
           "#ab63fa",
           "#FFA15A",
           "#19d3f3",
           "#FF6692",
           "#B6E880",
           "#FF97FF",
           "#FECB52"
          ],
          "font": {
           "color": "#2a3f5f"
          },
          "geo": {
           "bgcolor": "white",
           "lakecolor": "white",
           "landcolor": "#E5ECF6",
           "showlakes": true,
           "showland": true,
           "subunitcolor": "white"
          },
          "hoverlabel": {
           "align": "left"
          },
          "hovermode": "closest",
          "mapbox": {
           "style": "light"
          },
          "paper_bgcolor": "white",
          "plot_bgcolor": "#E5ECF6",
          "polar": {
           "angularaxis": {
            "gridcolor": "white",
            "linecolor": "white",
            "ticks": ""
           },
           "bgcolor": "#E5ECF6",
           "radialaxis": {
            "gridcolor": "white",
            "linecolor": "white",
            "ticks": ""
           }
          },
          "scene": {
           "xaxis": {
            "backgroundcolor": "#E5ECF6",
            "gridcolor": "white",
            "gridwidth": 2,
            "linecolor": "white",
            "showbackground": true,
            "ticks": "",
            "zerolinecolor": "white"
           },
           "yaxis": {
            "backgroundcolor": "#E5ECF6",
            "gridcolor": "white",
            "gridwidth": 2,
            "linecolor": "white",
            "showbackground": true,
            "ticks": "",
            "zerolinecolor": "white"
           },
           "zaxis": {
            "backgroundcolor": "#E5ECF6",
            "gridcolor": "white",
            "gridwidth": 2,
            "linecolor": "white",
            "showbackground": true,
            "ticks": "",
            "zerolinecolor": "white"
           }
          },
          "shapedefaults": {
           "line": {
            "color": "#2a3f5f"
           }
          },
          "ternary": {
           "aaxis": {
            "gridcolor": "white",
            "linecolor": "white",
            "ticks": ""
           },
           "baxis": {
            "gridcolor": "white",
            "linecolor": "white",
            "ticks": ""
           },
           "bgcolor": "#E5ECF6",
           "caxis": {
            "gridcolor": "white",
            "linecolor": "white",
            "ticks": ""
           }
          },
          "title": {
           "x": 0.05
          },
          "xaxis": {
           "automargin": true,
           "gridcolor": "white",
           "linecolor": "white",
           "ticks": "",
           "title": {
            "standoff": 15
           },
           "zerolinecolor": "white",
           "zerolinewidth": 2
          },
          "yaxis": {
           "automargin": true,
           "gridcolor": "white",
           "linecolor": "white",
           "ticks": "",
           "title": {
            "standoff": 15
           },
           "zerolinecolor": "white",
           "zerolinewidth": 2
          }
         }
        },
        "title": {
         "text": "Voice & Accountability vs Military Spending (sized by GDP per Capita)"
        },
        "xaxis": {
         "anchor": "y",
         "domain": [
          0,
          1
         ],
         "gridcolor": "lightgray",
         "gridwidth": 1,
         "showgrid": true,
         "title": {
          "text": "Military Expenditure (% of GDP)"
         },
         "type": "log"
        },
        "yaxis": {
         "anchor": "x",
         "domain": [
          0,
          1
         ],
         "gridcolor": "lightgray",
         "gridwidth": 1,
         "showgrid": true,
         "title": {
          "text": "Voice & Accountability Score"
         }
        }
       }
      }
     },
     "metadata": {},
     "output_type": "display_data"
    }
   ],
   "source": [
    " # Dropping NaNs to ensure graphability\n",
    "df_clean = df.dropna(subset=['VA.EST', 'MS.MIL.XPND.GD.ZS', 'NY.GNP.PCAP.CD'])\n",
    "\n",
    " # Creating plots and setting features\n",
    "fig_VAM = px.scatter(\n",
    "    df_clean,\n",
    "    x='MS.MIL.XPND.GD.ZS',\n",
    "    log_x=True,\n",
    "    y='VA.EST',\n",
    "    color='region',\n",
    "    size='NY.GNP.PCAP.CD',\n",
    "    hover_name=df_clean.index,\n",
    "    hover_data={\n",
    "        'MS.MIL.XPND.GD.ZS': ':.2f',\n",
    "        'VA.EST': ':.2f',\n",
    "        'NY.GNP.PCAP.CD': ':,.0f',\n",
    "        'incomeLevel': True,\n",
    "        'region': False\n",
    "    },\n",
    "    labels={\n",
    "        'MS.MIL.XPND.GD.ZS': 'Military Expenditure (% of GDP)',\n",
    "        'VA.EST': 'Voice & Accountability Score',\n",
    "        'NY.GNP.PCAP.CD': 'GDP per Capita'\n",
    "    },\n",
    "    title='Voice & Accountability vs Military Spending (sized by GDP per Capita)',\n",
    "    color_discrete_sequence=px.colors.qualitative.Prism,\n",
    ")\n",
    "\n",
    " # Formatting\n",
    "fig_VAM.update_layout(\n",
    "    height=600,\n",
    "    plot_bgcolor='white',\n",
    "    xaxis=dict(showgrid=True, gridwidth=1, gridcolor='lightgray'),\n",
    "    yaxis=dict(showgrid=True, gridwidth=1, gridcolor='lightgray')\n",
    ")\n",
    "\n",
    "fig_VAM.show()"
   ]
  },
  {
   "cell_type": "markdown",
   "id": "762befae-cda1-4d20-9a3c-aa7e2ceb0658",
   "metadata": {},
   "source": [
    "This graph shwos us the Military Expenditure compared to the Voice & Accountability Score. It gives us a look into the correlation between countries with stricter and more centralized control of governance spend and how much their military spend is. The distribution is pretty similar, but it is interesting to note that higher income countries tend to have higher VA scores, and most of those countries predominantly in the Europe and Central Asian region. There are a few outliers with military spending, the largest being Ukraine."
   ]
  },
  {
   "cell_type": "code",
   "execution_count": null,
   "id": "0c9e64f1-795a-44a5-96f2-61283def1512",
   "metadata": {},
   "outputs": [],
   "source": []
  }
 ],
 "metadata": {
  "kernelspec": {
   "display_name": "ds",
   "language": "python",
   "name": "python3"
  },
  "language_info": {
   "codemirror_mode": {
    "name": "ipython",
    "version": 3
   },
   "file_extension": ".py",
   "mimetype": "text/x-python",
   "name": "python",
   "nbconvert_exporter": "python",
   "pygments_lexer": "ipython3",
   "version": "3.12.9"
  }
 },
 "nbformat": 4,
 "nbformat_minor": 5
}
